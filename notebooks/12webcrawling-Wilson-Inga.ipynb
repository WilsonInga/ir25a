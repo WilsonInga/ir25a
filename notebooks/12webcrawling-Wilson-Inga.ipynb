{
 "cells": [
  {
   "cell_type": "code",
   "execution_count": 4,
   "id": "3e6ef056",
   "metadata": {},
   "outputs": [],
   "source": [
    "from bs4 import BeautifulSoup"
   ]
  },
  {
   "cell_type": "code",
   "execution_count": 5,
   "id": "f417da4f",
   "metadata": {},
   "outputs": [],
   "source": [
    "file = '../data/rotisserie-chicken.html'"
   ]
  },
  {
   "cell_type": "code",
   "execution_count": 7,
   "id": "3a532cd8",
   "metadata": {},
   "outputs": [],
   "source": [
    "# load the HTML file\n",
    "with open(file, 'r', encoding='utf-8') as file:\n",
    "    html_content = file.read()\n",
    "\n",
    "# parse the HTML content with BeautifulSoup\n",
    "soup = BeautifulSoup(html_content, 'html.parser')"
   ]
  },
  {
   "cell_type": "code",
   "execution_count": 8,
   "id": "c43b42e1",
   "metadata": {},
   "outputs": [
    {
     "data": {
      "text/plain": [
       "'Rotisserie Chicken'"
      ]
     },
     "execution_count": 8,
     "metadata": {},
     "output_type": "execute_result"
    }
   ],
   "source": [
    "# Extract the recipe title\n",
    "title = soup.find(\"meta\", property=\"og:title\")[\"content\"]\n",
    "title"
   ]
  },
  {
   "cell_type": "code",
   "execution_count": 9,
   "id": "3247efa4",
   "metadata": {},
   "outputs": [
    {
     "name": "stdout",
     "output_type": "stream",
     "text": [
      "1 (3 pound) whole chicken\n",
      "1 pinch salt\n",
      "¼ cup butter, melted\n",
      "1 tablespoon salt\n",
      "1 tablespoon ground paprika\n",
      "¼ tablespoon ground black pepper\n"
     ]
    }
   ],
   "source": [
    "ingredients_section = soup.find_all(\"li\", class_= \"mm-recipes-structured-ingredients__list-item\")\n",
    "for ingredient in ingredients_section:\n",
    "    print(ingredient.text.strip())"
   ]
  },
  {
   "cell_type": "code",
   "execution_count": 10,
   "id": "d42c538d",
   "metadata": {},
   "outputs": [
    {
     "name": "stdout",
     "output_type": "stream",
     "text": [
      "4.7\n"
     ]
    }
   ],
   "source": [
    "# Extract the rating\n",
    "rating_div = soup.find(\"div\", id=\"mm-recipes-review-bar__rating_1-0\")\n",
    "print(rating_div.text.strip())"
   ]
  },
  {
   "cell_type": "code",
   "execution_count": 11,
   "id": "f3e94d85",
   "metadata": {},
   "outputs": [
    {
     "name": "stdout",
     "output_type": "stream",
     "text": [
      "252 Reviews\n"
     ]
    }
   ],
   "source": [
    "# Extrac the comments\n",
    "comment_section = soup.find(\"div\", id=\"mm-recipes-review-bar__comment-count_1-0\")\n",
    "print(comment_section.text.strip())"
   ]
  },
  {
   "cell_type": "code",
   "execution_count": 12,
   "id": "61a781f2",
   "metadata": {},
   "outputs": [],
   "source": [
    "# Find all the links to recipes\n",
    "recipe_links = soup.find_all(\"a\", href=True)\n",
    "recipe_urls = []\n",
    "\n",
    "for link in recipe_links:\n",
    "    href =link['href']\n",
    "    if \"recipe\" in href:\n",
    "        recipe_urls.append(href)"
   ]
  },
  {
   "cell_type": "code",
   "execution_count": 13,
   "id": "ade5c9b4",
   "metadata": {},
   "outputs": [
    {
     "name": "stdout",
     "output_type": "stream",
     "text": [
      "https://www.allrecipes.com/authentication/login?regSource=3675&relativeRedirectUrl=%2Frecipe%2F93168%2Frotisserie-chicken%2F\n",
      "/account/add-recipe\n",
      "https://www.myrecipes.com/favorites\n",
      "https://www.allrecipes.com/authentication/logout?relativeRedirectUrl=%2Frecipe%2F93168%2Frotisserie-chicken%2F\n",
      "https://www.magazines.com/allrecipes-magazine.html?utm_source=allrecipes.com&utm_medium=owned&utm_campaign=i111arr1w2661\n",
      "https://www.magazines.com/allrecipes-magazine.html\n",
      "https://www.allrecipes.com/recipes/17562/dinner/\n",
      "https://www.allrecipes.com/recipes/17057/everyday-cooking/more-meal-ideas/5-ingredients/main-dishes/\n",
      "https://www.allrecipes.com/recipes/15436/everyday-cooking/one-pot-meals/\n",
      "https://www.allrecipes.com/recipes/1947/everyday-cooking/quick-and-easy/\n",
      "https://www.allrecipes.com/recipes/455/everyday-cooking/more-meal-ideas/30-minute-meals/\n",
      "https://www.allrecipes.com/recipes/17889/everyday-cooking/family-friendly/family-dinners/\n",
      "https://www.allrecipes.com/recipes/94/soups-stews-and-chili/\n",
      "https://www.allrecipes.com/recipes/16099/everyday-cooking/comfort-food/\n",
      "https://www.allrecipes.com/recipes/80/main-dish/\n",
      "https://www.allrecipes.com/recipes/22992/everyday-cooking/sheet-pan-dinners/\n",
      "https://www.allrecipes.com/recipes/17562/dinner/\n",
      "https://www.allrecipes.com/recipes-a-z-6735880\n",
      "https://www.allrecipes.com/recipes/78/breakfast-and-brunch/\n",
      "https://www.allrecipes.com/recipes/17561/lunch/\n",
      "https://www.allrecipes.com/recipes/84/healthy-recipes/\n",
      "https://www.allrecipes.com/recipes/76/appetizers-and-snacks/\n",
      "https://www.allrecipes.com/recipes/96/salad/\n",
      "https://www.allrecipes.com/recipes/81/side-dish/\n",
      "https://www.allrecipes.com/recipes/16369/soups-stews-and-chili/soup/\n",
      "https://www.allrecipes.com/recipes/156/bread/\n",
      "https://www.allrecipes.com/recipes/77/drinks/\n",
      "https://www.allrecipes.com/recipes/79/desserts/\n",
      "https://www.allrecipes.com/recipes-a-z-6735880\n",
      "https://www.allrecipes.com/ingredients-a-z-6740416\n",
      "https://www.allrecipes.com/recipes/201/meat-and-poultry/chicken/\n",
      "https://www.allrecipes.com/recipes/200/meat-and-poultry/beef/\n",
      "https://www.allrecipes.com/recipes/205/meat-and-poultry/pork/\n",
      "https://www.allrecipes.com/recipes/93/seafood/\n",
      "https://www.allrecipes.com/recipes/95/pasta-and-noodles/\n",
      "https://www.allrecipes.com/recipes/1058/fruits-and-vegetables/fruits/\n",
      "https://www.allrecipes.com/recipes/1059/fruits-and-vegetables/vegetables/\n",
      "https://www.allrecipes.com/ingredients-a-z-6740416\n",
      "https://www.allrecipes.com/recipes/85/holidays-and-events/\n",
      "https://www.allrecipes.com/recipes/630/everyday-cooking/seasonal/summer/\n",
      "https://www.allrecipes.com/entertaining/\n",
      "https://www.allrecipes.com/recipes/11985/everyday-cooking/family-friendly/back-to-school/\n",
      "https://www.allrecipes.com/recipes/85/holidays-and-events/\n",
      "https://www.allrecipes.com/cuisine-a-z-6740455\n",
      "https://www.allrecipes.com/recipes/728/world-cuisine/latin-american/mexican/\n",
      "https://www.allrecipes.com/recipes/723/world-cuisine/european/italian/\n",
      "https://www.allrecipes.com/recipes/695/world-cuisine/asian/chinese/\n",
      "https://www.allrecipes.com/recipes/233/world-cuisine/asian/indian/\n",
      "https://www.allrecipes.com/recipes/722/world-cuisine/european/german/\n",
      "https://www.allrecipes.com/recipes/731/world-cuisine/european/greek/\n",
      "https://www.allrecipes.com/recipes/696/world-cuisine/asian/filipino/\n",
      "https://www.allrecipes.com/recipes/699/world-cuisine/asian/japanese/\n",
      "https://www.allrecipes.com/cuisine-a-z-6740455\n",
      "https://www.allrecipes.com/kitchen-tips/\n",
      "https://www.allrecipes.com/recipes/22882/everyday-cooking/instant-pot/\n",
      "https://www.allrecipes.com/recipes/23070/everyday-cooking/cookware-and-equipment/air-fryer/\n",
      "https://www.allrecipes.com/recipes/253/everyday-cooking/slow-cooker/\n",
      "https://www.allrecipes.com/food-news-trends/product-reviews/\n",
      "https://www.allrecipes.com/recipes/88/bbq-grilling/\n",
      "https://www.allrecipes.com/recipes/17583/everyday-cooking/cookware-and-equipment/\n",
      "https://www.allrecipes.com/kitchen-tips/all-about-ingredients/substitutions/\n",
      "https://www.allrecipes.com/kitchen-tips/\n",
      "https://www.allrecipes.com/food-news-trends/\n",
      "https://www.allrecipes.com/food-news-trends/celebrity-entertainment/\n",
      "https://www.allrecipes.com/fast-food-8672832\n",
      "https://www.allrecipes.com/grocery-8672835\n",
      "https://www.allrecipes.com/food-news-trends/recalls/\n",
      "https://www.allrecipes.com/food-news-trends/trends/\n",
      "https://www.allrecipes.com/food-news-trends/\n",
      "https://www.allrecipes.com/recipes/1642/everyday-cooking/\n",
      "https://www.allrecipes.com/kitchen-tips/how-to/dinner-fix/\n",
      "https://www.allrecipes.com/kitchen-tips/how-to/sweet-spot/\n",
      "https://www.allrecipes.com/kitchen-tips/in-the-kitchen/\n",
      "https://www.allrecipes.com/about-us-6648102\n",
      "https://www.allrecipes.com/about-us-6648102\n",
      "https://www.allrecipes.com/allstars-8661275\n",
      "https://www.allrecipes.com/article/how-to-submit-recipes/\n",
      "https://www.magazines.com/allrecipes-magazine.html?utm_source=allrecipes.com&utm_medium=owned&utm_campaign=i111arr1w2661\n",
      "https://www.allrecipes.com/authentication/login?regSource=3675&relativeRedirectUrl=%2Frecipe%2F93168%2Frotisserie-chicken%2F\n",
      "/account/add-recipe\n",
      "https://www.myrecipes.com/favorites\n",
      "https://www.allrecipes.com/authentication/logout?relativeRedirectUrl=%2Frecipe%2F93168%2Frotisserie-chicken%2F\n",
      "https://www.magazines.com/allrecipes-magazine.html?utm_source=allrecipes.com&utm_medium=owned&utm_campaign=i111arr1w2661\n",
      "https://www.magazines.com/allrecipes-magazine.html\n",
      "https://www.facebook.com/allrecipes\n",
      "https://www.instagram.com/allrecipes/\n",
      "https://www.pinterest.com/allrecipes/\n",
      "https://www.tiktok.com/@allrecipes\n",
      "https://www.youtube.com/user/allrecipes/videos\n",
      "https://flipboard.com/@Allrecipes\n",
      "https://www.allrecipes.com/recipes/17562/dinner/\n",
      "https://www.allrecipes.com/recipes/17057/everyday-cooking/more-meal-ideas/5-ingredients/main-dishes/\n",
      "https://www.allrecipes.com/recipes/15436/everyday-cooking/one-pot-meals/\n",
      "https://www.allrecipes.com/recipes/1947/everyday-cooking/quick-and-easy/\n",
      "https://www.allrecipes.com/recipes/455/everyday-cooking/more-meal-ideas/30-minute-meals/\n",
      "https://www.allrecipes.com/recipes/17889/everyday-cooking/family-friendly/family-dinners/\n",
      "https://www.allrecipes.com/recipes/94/soups-stews-and-chili/\n",
      "https://www.allrecipes.com/recipes/16099/everyday-cooking/comfort-food/\n",
      "https://www.allrecipes.com/recipes/80/main-dish/\n",
      "https://www.allrecipes.com/recipes/22992/everyday-cooking/sheet-pan-dinners/\n",
      "https://www.allrecipes.com/recipes/17562/dinner/\n",
      "https://www.allrecipes.com/recipes-a-z-6735880\n",
      "https://www.allrecipes.com/recipes/78/breakfast-and-brunch/\n",
      "https://www.allrecipes.com/recipes/17561/lunch/\n",
      "https://www.allrecipes.com/recipes/84/healthy-recipes/\n",
      "https://www.allrecipes.com/recipes/76/appetizers-and-snacks/\n",
      "https://www.allrecipes.com/recipes/96/salad/\n",
      "https://www.allrecipes.com/recipes/81/side-dish/\n",
      "https://www.allrecipes.com/recipes/16369/soups-stews-and-chili/soup/\n",
      "https://www.allrecipes.com/recipes/156/bread/\n",
      "https://www.allrecipes.com/recipes/77/drinks/\n",
      "https://www.allrecipes.com/recipes/79/desserts/\n",
      "https://www.allrecipes.com/recipes-a-z-6735880\n",
      "https://www.allrecipes.com/ingredients-a-z-6740416\n",
      "https://www.allrecipes.com/recipes/201/meat-and-poultry/chicken/\n",
      "https://www.allrecipes.com/recipes/200/meat-and-poultry/beef/\n",
      "https://www.allrecipes.com/recipes/205/meat-and-poultry/pork/\n",
      "https://www.allrecipes.com/recipes/93/seafood/\n",
      "https://www.allrecipes.com/recipes/95/pasta-and-noodles/\n",
      "https://www.allrecipes.com/recipes/1058/fruits-and-vegetables/fruits/\n",
      "https://www.allrecipes.com/recipes/1059/fruits-and-vegetables/vegetables/\n",
      "https://www.allrecipes.com/ingredients-a-z-6740416\n",
      "https://www.allrecipes.com/recipes/85/holidays-and-events/\n",
      "https://www.allrecipes.com/recipes/630/everyday-cooking/seasonal/summer/\n",
      "https://www.allrecipes.com/entertaining/\n",
      "https://www.allrecipes.com/recipes/11985/everyday-cooking/family-friendly/back-to-school/\n",
      "https://www.allrecipes.com/recipes/85/holidays-and-events/\n",
      "https://www.allrecipes.com/cuisine-a-z-6740455\n",
      "https://www.allrecipes.com/recipes/728/world-cuisine/latin-american/mexican/\n",
      "https://www.allrecipes.com/recipes/723/world-cuisine/european/italian/\n",
      "https://www.allrecipes.com/recipes/695/world-cuisine/asian/chinese/\n",
      "https://www.allrecipes.com/recipes/233/world-cuisine/asian/indian/\n",
      "https://www.allrecipes.com/recipes/722/world-cuisine/european/german/\n",
      "https://www.allrecipes.com/recipes/731/world-cuisine/european/greek/\n",
      "https://www.allrecipes.com/recipes/696/world-cuisine/asian/filipino/\n",
      "https://www.allrecipes.com/recipes/699/world-cuisine/asian/japanese/\n",
      "https://www.allrecipes.com/cuisine-a-z-6740455\n",
      "https://www.allrecipes.com/kitchen-tips/\n",
      "https://www.allrecipes.com/recipes/22882/everyday-cooking/instant-pot/\n",
      "https://www.allrecipes.com/recipes/23070/everyday-cooking/cookware-and-equipment/air-fryer/\n",
      "https://www.allrecipes.com/recipes/253/everyday-cooking/slow-cooker/\n",
      "https://www.allrecipes.com/food-news-trends/product-reviews/\n",
      "https://www.allrecipes.com/recipes/88/bbq-grilling/\n",
      "https://www.allrecipes.com/recipes/17583/everyday-cooking/cookware-and-equipment/\n",
      "https://www.allrecipes.com/kitchen-tips/all-about-ingredients/substitutions/\n",
      "https://www.allrecipes.com/kitchen-tips/\n",
      "https://www.allrecipes.com/food-news-trends/\n",
      "https://www.allrecipes.com/food-news-trends/celebrity-entertainment/\n",
      "https://www.allrecipes.com/fast-food-8672832\n",
      "https://www.allrecipes.com/grocery-8672835\n",
      "https://www.allrecipes.com/food-news-trends/recalls/\n",
      "https://www.allrecipes.com/food-news-trends/trends/\n",
      "https://www.allrecipes.com/food-news-trends/\n",
      "https://www.allrecipes.com/recipes/1642/everyday-cooking/\n",
      "https://www.allrecipes.com/kitchen-tips/how-to/dinner-fix/\n",
      "https://www.allrecipes.com/kitchen-tips/how-to/sweet-spot/\n",
      "https://www.allrecipes.com/kitchen-tips/in-the-kitchen/\n",
      "https://www.allrecipes.com/allstars-8661275\n",
      "https://www.allrecipes.com/article/how-to-submit-recipes/\n",
      "https://www.magazines.com/allrecipes-magazine.html?utm_source=allrecipes.com&utm_medium=owned&utm_campaign=i111arr1w2661\n",
      "https://www.allrecipes.com/recipes/\n",
      "https://www.allrecipes.com/recipes/92/meat-and-poultry/\n",
      "https://www.allrecipes.com/recipes/201/meat-and-poultry/chicken/\n",
      "https://www.allrecipes.com/recipes/662/meat-and-poultry/chicken/whole-chicken/\n",
      "https://www.allrecipes.com/gallery/ways-to-use-rotisserie-chicken/\n",
      "https://www.allrecipes.com/gallery/30-minute-recipes-with-rotisserie-chicken/\n",
      "https://www.allrecipes.com/gallery/no-cook-rotisserie-chicken-recipes/\n",
      "https://www.allrecipes.com/cook/1227418\n",
      "https://www.allrecipes.com/cook/17268918\n",
      "https://www.allrecipes.com/cook/1170440\n",
      "https://www.allrecipes.com/author/corey-williams/\n",
      "https://www.allrecipes.com/cook/28884860\n",
      "https://www.allrecipes.com/cook/7383226\n",
      "https://www.allrecipes.com/cook/26904164\n",
      "https://www.allrecipes.com/cook/27213007\n",
      "https://www.allrecipes.com/cook/18164047\n",
      "https://www.allrecipes.com/cook/2380801\n",
      "https://www.allrecipes.com/cook/17007986\n",
      "https://www.allrecipes.com/cook/16849068\n",
      "https://www.allrecipes.com/cook/25840907\n",
      "https://www.allrecipes.com/recipe/238575/cilantro-lime-grilled-chicken/\n",
      "https://www.allrecipes.com/recipe/275062/buttermilk-barbecue-chicken/\n",
      "https://www.allrecipes.com/recipe/274724/grilled-spatchcocked-chicken/\n",
      "https://www.allrecipes.com/recipe/14531/beer-butt-chicken/\n",
      "https://www.allrecipes.com/recipe/221093/good-frickin-paprika-chicken/\n",
      "https://www.allrecipes.com/recipe/264278/miso-honey-chicken/\n",
      "https://www.allrecipes.com/recipe/258659/rosemary-buttermilk-chicken/\n",
      "https://www.allrecipes.com/recipe/222936/smoked-beer-butt-chicken/\n",
      "https://www.allrecipes.com/recipe/228070/the-best-beer-can-chicken-ever/\n",
      "https://www.allrecipes.com/recipe/214619/bbq-beer-can-chicken/\n",
      "https://www.allrecipes.com/recipe/19944/drunk-chicken/\n",
      "https://www.allrecipes.com/recipe/275044/grilled-chicken-under-a-brick/\n",
      "https://www.allrecipes.com/recipe/281255/smoked-whole-chicken/\n",
      "https://www.allrecipes.com/recipe/34957/easy-barbeque-chicken/\n",
      "https://www.allrecipes.com/recipe/8998/darn-good-chicken/\n",
      "https://www.allrecipes.com/recipe/214618/beer-can-chicken/\n",
      "https://www.facebook.com/allrecipes\n",
      "https://www.instagram.com/allrecipes/\n",
      "https://www.pinterest.com/allrecipes/\n",
      "https://www.tiktok.com/@allrecipes\n",
      "https://www.youtube.com/user/allrecipes/videos\n",
      "https://flipboard.com/@Allrecipes\n",
      "https://www.allrecipes.com/recipes/17562/dinner/\n",
      "https://www.allrecipes.com/recipes/\n",
      "https://www.allrecipes.com/recipes/17567/ingredients/\n",
      "https://www.allrecipes.com/recipes/85/holidays-and-events/\n",
      "https://www.allrecipes.com/recipes/86/world-cuisine/\n",
      "https://www.allrecipes.com/kitchen-tips/\n",
      "https://www.allrecipes.com/food-news-trends/\n",
      "https://www.allrecipes.com/recipes/1642/everyday-cooking/\n",
      "https://www.dotdashmeredith.com/brands/food-drink/allrecipes\n"
     ]
    }
   ],
   "source": [
    "# Print the recipe URLs\n",
    "for url in recipe_urls:\n",
    "    print(url)"
   ]
  }
 ],
 "metadata": {
  "kernelspec": {
   "display_name": ".venv",
   "language": "python",
   "name": "python3"
  },
  "language_info": {
   "codemirror_mode": {
    "name": "ipython",
    "version": 3
   },
   "file_extension": ".py",
   "mimetype": "text/x-python",
   "name": "python",
   "nbconvert_exporter": "python",
   "pygments_lexer": "ipython3",
   "version": "3.12.4"
  }
 },
 "nbformat": 4,
 "nbformat_minor": 5
}
