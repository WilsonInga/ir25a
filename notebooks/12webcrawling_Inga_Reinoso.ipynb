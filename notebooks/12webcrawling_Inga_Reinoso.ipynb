{
  "cells": [
    {
      "cell_type": "markdown",
      "source": [
        "**Integrantes:** Wilson Inga y Anthony Reinoso"
      ],
      "metadata": {
        "id": "pcnb15ZAxfYJ"
      },
      "id": "pcnb15ZAxfYJ"
    },
    {
      "metadata": {
        "id": "88b63181c563a666"
      },
      "cell_type": "markdown",
      "source": [
        "# Ejercicio 12: Web Scraping\n",
        "\n",
        "## Objetivo de la práctica\n",
        "\n",
        "El objetivo de este ejercicio es construir un web scraper que recoja datos de un website.\n",
        "\n",
        "### Parte 0: Planificar\n",
        "1. Identificar los datos que quieres obtener.\n",
        "2. Elegir el sitio web objetivo.\n",
        "3. Planificar la estructura del corpus."
      ],
      "id": "88b63181c563a666"
    },
    {
      "metadata": {
        "id": "477cce632174e459"
      },
      "cell_type": "markdown",
      "source": [
        "## Parte 1: Entender el sitio web objetivo\n",
        "\n",
        "- Analizar la estructura de la página web a ser analizada.\n",
        "- Identificar los elementos HTML que contienen los datos bsuscados."
      ],
      "id": "477cce632174e459"
    },
    {
      "metadata": {
        "ExecuteTime": {
          "end_time": "2025-07-21T15:03:03.589361Z",
          "start_time": "2025-07-21T15:03:03.478057Z"
        },
        "id": "acaedf35c1512dd4"
      },
      "cell_type": "code",
      "source": [
        "from bs4 import BeautifulSoup\n",
        "\n",
        "file = '/content/rotisserie-chicken.html'\n",
        "\n",
        "# Load the HTML file\n",
        "with open(file, \"r\", encoding=\"utf-8\") as file:\n",
        "    html_content = file.read()\n",
        "\n",
        "# Parse the HTML content with BeautifulSoup\n",
        "soup = BeautifulSoup(html_content, \"html.parser\")"
      ],
      "id": "acaedf35c1512dd4",
      "outputs": [],
      "execution_count": 27
    },
    {
      "metadata": {
        "ExecuteTime": {
          "end_time": "2025-07-21T15:08:08.582015Z",
          "start_time": "2025-07-21T15:08:08.563627Z"
        },
        "colab": {
          "base_uri": "https://localhost:8080/",
          "height": 35
        },
        "id": "f920a2cc8f8b98f3",
        "outputId": "1ddd1442-205c-415e-8461-a9e3b7a119ba"
      },
      "cell_type": "code",
      "source": [
        "# Extracting the recipe title\n",
        "title = soup.find(\"meta\", {\"property\": \"og:title\"})[\"content\"]\n",
        "title"
      ],
      "id": "f920a2cc8f8b98f3",
      "outputs": [
        {
          "output_type": "execute_result",
          "data": {
            "text/plain": [
              "'Rotisserie Chicken'"
            ],
            "application/vnd.google.colaboratory.intrinsic+json": {
              "type": "string"
            }
          },
          "metadata": {},
          "execution_count": 28
        }
      ],
      "execution_count": 28
    },
    {
      "cell_type": "markdown",
      "source": [
        "## Ingredientes"
      ],
      "metadata": {
        "id": "-W4jnzzdc1s7"
      },
      "id": "-W4jnzzdc1s7"
    },
    {
      "metadata": {
        "ExecuteTime": {
          "end_time": "2025-07-21T15:13:47.366701Z",
          "start_time": "2025-07-21T15:13:47.352927Z"
        },
        "colab": {
          "base_uri": "https://localhost:8080/"
        },
        "id": "72d942212ce62a1f",
        "outputId": "3a197707-b48a-48a9-f2f8-94ad9797973d"
      },
      "cell_type": "code",
      "source": [
        "ingredients_section = soup.find_all(\"li\", class_=\"mm-recipes-structured-ingredients__list-item\")\n",
        "for ingredient in ingredients_section:\n",
        "    print(ingredient.text.strip())"
      ],
      "id": "72d942212ce62a1f",
      "outputs": [
        {
          "output_type": "stream",
          "name": "stdout",
          "text": [
            "1 (3 pound) whole chicken\n",
            "1 pinch salt\n",
            "¼ cup butter, melted\n",
            "1 tablespoon salt\n",
            "1 tablespoon ground paprika\n",
            "¼ tablespoon ground black pepper\n"
          ]
        }
      ],
      "execution_count": 29
    },
    {
      "cell_type": "markdown",
      "source": [
        "## Valoración"
      ],
      "metadata": {
        "id": "njka04Gsc31N"
      },
      "id": "njka04Gsc31N"
    },
    {
      "cell_type": "code",
      "source": [
        "calification = float(soup.find(\"div\", class_=\"comp mm-recipes-review-bar__rating mntl-text-block text-label-300\").text.strip())\n",
        "calification"
      ],
      "metadata": {
        "colab": {
          "base_uri": "https://localhost:8080/"
        },
        "id": "VVqnR1C9c5ub",
        "outputId": "2c3b9fbc-41a5-4ddb-92fc-811b58498a56"
      },
      "id": "VVqnR1C9c5ub",
      "execution_count": 30,
      "outputs": [
        {
          "output_type": "execute_result",
          "data": {
            "text/plain": [
              "4.7"
            ]
          },
          "metadata": {},
          "execution_count": 30
        }
      ]
    },
    {
      "cell_type": "markdown",
      "source": [
        "## Tiempo y Porciones\n"
      ],
      "metadata": {
        "id": "Z_LA6pzgc8Pm"
      },
      "id": "Z_LA6pzgc8Pm"
    },
    {
      "cell_type": "code",
      "source": [
        "contenedor_tiempos = soup.find(\"div\", class_=\"mm-recipes-details__content\")\n",
        "\n",
        "tiempos = contenedor_tiempos.find_all(\"div\", class_=\"mm-recipes-details__item\")\n",
        "\n",
        "for tiempo in tiempos:\n",
        "    etiqueta = tiempo.find(\"div\", class_=\"mm-recipes-details__label\").text.strip()\n",
        "    valor = tiempo.find(\"div\", class_=\"mm-recipes-details__value\").text.strip()\n",
        "    print(f\"{etiqueta} {valor}\")"
      ],
      "metadata": {
        "colab": {
          "base_uri": "https://localhost:8080/"
        },
        "id": "TJ_yq1OIc9z0",
        "outputId": "461bc16a-e29f-43d2-e693-dca9fbe58e07"
      },
      "id": "TJ_yq1OIc9z0",
      "execution_count": 31,
      "outputs": [
        {
          "output_type": "stream",
          "name": "stdout",
          "text": [
            "Prep Time: 10 mins\n",
            "Cook Time: 1 hr 10 mins\n",
            "Additional Time: 10 mins\n",
            "Total Time: 1 hr 30 mins\n",
            "Servings: 6\n"
          ]
        }
      ]
    },
    {
      "cell_type": "markdown",
      "source": [
        "## Fuentes Nutricionales\n"
      ],
      "metadata": {
        "id": "upvcEugfdDRE"
      },
      "id": "upvcEugfdDRE"
    },
    {
      "cell_type": "code",
      "source": [
        "nutri_tabla = soup.find(\"div\", id=\"mm-recipes-nutrition-facts-summary_1-0\")\n",
        "filas = nutri_tabla.find_all(\"tr\")\n",
        "\n",
        "print(\"Información nutricional (por porción):\")\n",
        "for fila in filas:\n",
        "    valor = fila.find(\"td\", class_=\"text-body-100-prominent\").text.strip()\n",
        "    etiqueta = fila.find(\"td\", class_=\"text-body-100\").text.strip()\n",
        "    print(f\"{etiqueta}: {valor}\")"
      ],
      "metadata": {
        "colab": {
          "base_uri": "https://localhost:8080/"
        },
        "id": "HKVaUTMIdDzw",
        "outputId": "cd245bc5-acdb-4b2f-9ded-78f402eee32f"
      },
      "id": "HKVaUTMIdDzw",
      "execution_count": 32,
      "outputs": [
        {
          "output_type": "stream",
          "name": "stdout",
          "text": [
            "Información nutricional (por porción):\n",
            "Calories: 357\n",
            "Fat: 25g\n",
            "Carbs: 1g\n",
            "Protein: 31g\n"
          ]
        }
      ]
    },
    {
      "cell_type": "markdown",
      "source": [
        "## Descripción"
      ],
      "metadata": {
        "id": "aR5Z3-wtdcNu"
      },
      "id": "aR5Z3-wtdcNu"
    },
    {
      "cell_type": "code",
      "source": [
        "descripcion = soup.find(\"p\", class_=\"article-subheading text-utility-300\").text.strip()\n",
        "print(descripcion)"
      ],
      "metadata": {
        "colab": {
          "base_uri": "https://localhost:8080/"
        },
        "id": "TDBwySXOdUlm",
        "outputId": "8b19e2c9-7330-40d1-a11d-229be985c86f"
      },
      "id": "TDBwySXOdUlm",
      "execution_count": 33,
      "outputs": [
        {
          "output_type": "stream",
          "name": "stdout",
          "text": [
            "This rotisserie chicken recipe is so easy to make with simple seasonings on your grill. Occasional basting with a butter mixture ensures crispy skin and moist meat. Our family loves this! Rotisserie chicken is perfect as the main dish with French fries and coleslaw, or with any number of other sides.\n"
          ]
        }
      ]
    },
    {
      "metadata": {
        "id": "393d4bc45393e6b5"
      },
      "cell_type": "markdown",
      "source": [
        "## Parte 2: Obtener los datos deseados\n",
        "\n",
        "* Buscar dentro del contenido HTML y extraer la información."
      ],
      "id": "393d4bc45393e6b5"
    },
    {
      "metadata": {
        "ExecuteTime": {
          "end_time": "2025-07-21T15:40:08.604096Z",
          "start_time": "2025-07-21T15:40:08.559700Z"
        },
        "colab": {
          "base_uri": "https://localhost:8080/"
        },
        "id": "9fb1593ad4d918f9",
        "outputId": "a3ed53d9-cee0-40df-8002-af91f45657df"
      },
      "cell_type": "code",
      "source": [
        "# Extracting the description\n",
        "description = soup.find(\"meta\", {\"name\": \"description\"})[\"content\"]\n",
        "\n",
        "# Extracting the ingredients\n",
        "ingredients_section = soup.find_all(\"li\", class_=\"mm-recipes-structured-ingredients__list-item\")\n",
        "ingredients = [ingredient.get_text().strip() for ingredient in ingredients_section]\n",
        "\n",
        "# Extracting the instructions\n",
        "instructions_section = soup.find_all(\"p\", class_=\"comp mntl-sc-block mntl-sc-block-html\")\n",
        "instructions = [instruction.get_text().strip() for instruction in instructions_section]\n",
        "\n",
        "# Extracting the nutrition information\n",
        "nutrition_section = soup.find_all(\"span\", class_=\"mm-recipes-nutrition-facts-label__nutrient-name mm-recipes-nutrition-facts-label__nutrient-name--has-postfix\")\n",
        "nutrition_facts = [fact.parent.get_text().strip().replace('\\n', ' ') for fact in nutrition_section]\n",
        "\n",
        "# Print the extracted information\n",
        "print(\"Recipe Title:\", title)\n",
        "print(\"Description:\", description)\n",
        "print(\"Ingredients:\")\n",
        "for ingredient in ingredients:\n",
        "    print(\"-\", ingredient)\n",
        "print(\"Instructions:\")\n",
        "for i, instruction in enumerate(instructions, 1):\n",
        "    print(f\"{i}. {instruction}\")\n",
        "print(\"Nutrition Facts:\")\n",
        "for fact in nutrition_facts:\n",
        "    print(\"-\", fact)\n"
      ],
      "id": "9fb1593ad4d918f9",
      "outputs": [
        {
          "output_type": "stream",
          "name": "stdout",
          "text": [
            "Recipe Title: Rotisserie Chicken\n",
            "Description: Rotisserie chicken that's easy to cook on a gas grill and turns out moist and juicy with crispy skin. This is a simple recipe that our family loves.\n",
            "Ingredients:\n",
            "- 1 (3 pound) whole chicken\n",
            "- 1 pinch salt\n",
            "- ¼ cup butter, melted\n",
            "- 1 tablespoon salt\n",
            "- 1 tablespoon ground paprika\n",
            "- ¼ tablespoon ground black pepper\n",
            "Instructions:\n",
            "1. Intimidated by the idea of making a rotisserie chicken at home? We're here to help. Get your grill and rotisserie attachment ready — you'll want to try this recipe ASAP.\n",
            "2. Here's what you'll need to make rotisserie chicken at home:\n",
            "3. · Whole Chicken: This recipe is meant for a whole 3-pound chicken. If your chicken is larger or smaller, you'll have to adjust the cooking time.· Butter: Butter keeps the chicken moist and juicy, while giving the seasonings something to stick to.· Seasonings: The rotisserie chicken is simply seasoned with salt, pepper, and paprika.\n",
            "4. You'll find the full, step-by-step recipe below — but here's a brief overview of what you can expect when you make this rotisserie chicken:\n",
            "5. Season the chicken cavity with salt and place it on a rotisserie (tie the wings and legs if you have twine or string available). Set the grill on high and cook for 10 minutes. Turn the grill down to medium and baste with a mixture of the butter and the seasonings. Close the lid and continue cooking, basting occasionally, until the chicken is cooked through. The internal temperature should reach at least 180 degrees F.\n",
            "6. A cooked rotisserie chicken should stay good for about four days in a shallow, airtight container in the refrigerator.\n",
            "7. Allow the chicken to cool for about 15 minutes before carving. To carve:\n",
            "8. 1. Place the chicken, breast-side up, on a cutting board.2. Pull one of the legs away from the body and slice through the meat until the hip bone is exposed. Then, pull the leg harder until the leg is detached.3. Use your knife to separate the drumstick and thigh.4. Pull the wing tip away from the breast until you can easily cut through the joint.5. Slice one of the breasts away from the breastbone. Repeat with the other breast.\n",
            "9. If you go through the trouble of making a rotisserie chicken at home, you'll likely want to enjoy it on its own with a side salad or roasted vegetables.\n",
            "10. What about the leftovers? Don't let even a bite of that chicken go to waste. Explore some of these mouthwatering collections for delicious inspiration:\n",
            "11. · 23 Easy Weeknight Dinner Recipes That Use Rotisserie Chicken· 15 Easy 30-Minute Dinners That Start With Rotisserie Chicken· 15 No-Cook Meals You Can Make from Rotisserie Chicken\n",
            "12. Reheat rotisserie chicken in the microwave, in the oven, or even in the air fryer.\n",
            "13. · Microwave: Place the chicken on a plate, cover with a damp paper towel, and microwave until the chicken is heated through.· Oven: Place the chicken in a baking dish, pour in chicken broth (about ¼-inch deep), cover with aluminum foil, and bake at 400 degrees F for 15 to 20 minutes or until heated through.· Air Fryer: Place the chicken in the basket of the air fryer and cook at 350 degrees F for three to four minutes, or until crispy and heated through.\n",
            "14. \"This is only our second time using our grill's rotisserie attachment for the grill,\" says CHRISTINESAVILLE. \"This recipe knocked the much more complex one out of the park! Delicious and easy to make! I wish I had a picture. It was perfect.\"\n",
            "15. \"This is the best rotisserie chicken I've made, and I'll add, also beats baked,\" raves Melissa M. \"Very juicy, done right, and great flavor. I put liquid smoke, pineapple juice and water in a pan underneath to add more moisture, and basted with butter and basil pesto every 30-45 min.\"\n",
            "16. \"We just got a new grill along with a rotisserie,\" says Dishy. \"Couldn't wait to try it out and this recipe was perfect. I even did two chickens (Doubled the recipe) at one time and they both turned out great. Very moist and flavorful!\"\n",
            "17. Editorial contributions by Corey Williams\n",
            "18. Gather all ingredients. Preheat an outdoor grill for high heat and lightly oil the grate.\n",
            "19. Season chicken cavity with a pinch of salt. Tie legs together with kitchen string; then tie wings to the bird. Secure chicken on a rotisserie attachment.\n",
            "20. Place rotisserie over the preheated grill and cook for 10 minutes.\n",
            "21. Meanwhile, quickly mix together butter, 1 tablespoon of salt, paprika, and pepper. Turn the grill down to medium and baste chicken with butter mixture.\n",
            "22. Close the lid and cook over medium heat, basting occasionally, until chicken is cooked through and the internal temperature reaches 180 degrees F (83 degrees C), 1 to 1 1/2 hours.\n",
            "23. Remove chicken from the rotisserie and let rest for 10 to 15 minutes before carving.\n",
            "Nutrition Facts:\n",
            "- Total Fat 25g\n",
            "- Saturated Fat 10g\n",
            "- Cholesterol 117mg\n",
            "- Sodium 1311mg\n",
            "- Total Carbohydrate 1g\n",
            "- Dietary Fiber 1g\n",
            "- Total Sugars 0g\n",
            "- Protein 31g\n",
            "- Vitamin C 1mg\n",
            "- Calcium 22mg\n",
            "- Iron 2mg\n",
            "- Potassium 302mg\n"
          ]
        }
      ],
      "execution_count": 34
    },
    {
      "metadata": {
        "id": "48099d39cb962f16"
      },
      "cell_type": "markdown",
      "source": [
        "## Parte 3: Obtener enlaces relacionados\n",
        "* Encontrar links a otras recetas para completar el corpus"
      ],
      "id": "48099d39cb962f16"
    },
    {
      "cell_type": "code",
      "id": "initial_id",
      "metadata": {
        "collapsed": true,
        "ExecuteTime": {
          "end_time": "2025-07-21T15:41:00.000532Z",
          "start_time": "2025-07-21T15:40:59.973638Z"
        },
        "colab": {
          "base_uri": "https://localhost:8080/"
        },
        "id": "initial_id",
        "outputId": "dd231d9a-92ec-416a-a597-1e2f0dc34044"
      },
      "source": [
        "# Find all the links to other recipes\n",
        "recipe_links = soup.find_all(\"a\", href=True)\n",
        "\n",
        "# Filter and print only the links that are likely to be recipes\n",
        "recipe_urls = []\n",
        "for link in recipe_links:\n",
        "    href = link['href']\n",
        "    if \"recipe\" in href:\n",
        "        recipe_urls.append(href)\n",
        "\n",
        "# Print the recipe URLs\n",
        "print(\"Linked Recipes:\")\n",
        "for url in recipe_urls:\n",
        "    print(url)"
      ],
      "outputs": [
        {
          "output_type": "stream",
          "name": "stdout",
          "text": [
            "Linked Recipes:\n",
            "https://www.allrecipes.com/authentication/login?regSource=3675&relativeRedirectUrl=%2Frecipe%2F93168%2Frotisserie-chicken%2F\n",
            "/account/add-recipe\n",
            "https://www.myrecipes.com/favorites\n",
            "https://www.allrecipes.com/authentication/logout?relativeRedirectUrl=%2Frecipe%2F93168%2Frotisserie-chicken%2F\n",
            "https://www.magazines.com/allrecipes-magazine.html?utm_source=allrecipes.com&utm_medium=owned&utm_campaign=i111arr1w2661\n",
            "https://www.magazines.com/allrecipes-magazine.html\n",
            "https://www.allrecipes.com/recipes/17562/dinner/\n",
            "https://www.allrecipes.com/recipes/17057/everyday-cooking/more-meal-ideas/5-ingredients/main-dishes/\n",
            "https://www.allrecipes.com/recipes/15436/everyday-cooking/one-pot-meals/\n",
            "https://www.allrecipes.com/recipes/1947/everyday-cooking/quick-and-easy/\n",
            "https://www.allrecipes.com/recipes/455/everyday-cooking/more-meal-ideas/30-minute-meals/\n",
            "https://www.allrecipes.com/recipes/17889/everyday-cooking/family-friendly/family-dinners/\n",
            "https://www.allrecipes.com/recipes/94/soups-stews-and-chili/\n",
            "https://www.allrecipes.com/recipes/16099/everyday-cooking/comfort-food/\n",
            "https://www.allrecipes.com/recipes/80/main-dish/\n",
            "https://www.allrecipes.com/recipes/22992/everyday-cooking/sheet-pan-dinners/\n",
            "https://www.allrecipes.com/recipes/17562/dinner/\n",
            "https://www.allrecipes.com/recipes-a-z-6735880\n",
            "https://www.allrecipes.com/recipes/78/breakfast-and-brunch/\n",
            "https://www.allrecipes.com/recipes/17561/lunch/\n",
            "https://www.allrecipes.com/recipes/84/healthy-recipes/\n",
            "https://www.allrecipes.com/recipes/76/appetizers-and-snacks/\n",
            "https://www.allrecipes.com/recipes/96/salad/\n",
            "https://www.allrecipes.com/recipes/81/side-dish/\n",
            "https://www.allrecipes.com/recipes/16369/soups-stews-and-chili/soup/\n",
            "https://www.allrecipes.com/recipes/156/bread/\n",
            "https://www.allrecipes.com/recipes/77/drinks/\n",
            "https://www.allrecipes.com/recipes/79/desserts/\n",
            "https://www.allrecipes.com/recipes-a-z-6735880\n",
            "https://www.allrecipes.com/ingredients-a-z-6740416\n",
            "https://www.allrecipes.com/recipes/201/meat-and-poultry/chicken/\n",
            "https://www.allrecipes.com/recipes/200/meat-and-poultry/beef/\n",
            "https://www.allrecipes.com/recipes/205/meat-and-poultry/pork/\n",
            "https://www.allrecipes.com/recipes/93/seafood/\n",
            "https://www.allrecipes.com/recipes/95/pasta-and-noodles/\n",
            "https://www.allrecipes.com/recipes/1058/fruits-and-vegetables/fruits/\n",
            "https://www.allrecipes.com/recipes/1059/fruits-and-vegetables/vegetables/\n",
            "https://www.allrecipes.com/ingredients-a-z-6740416\n",
            "https://www.allrecipes.com/recipes/85/holidays-and-events/\n",
            "https://www.allrecipes.com/recipes/630/everyday-cooking/seasonal/summer/\n",
            "https://www.allrecipes.com/entertaining/\n",
            "https://www.allrecipes.com/recipes/11985/everyday-cooking/family-friendly/back-to-school/\n",
            "https://www.allrecipes.com/recipes/85/holidays-and-events/\n",
            "https://www.allrecipes.com/cuisine-a-z-6740455\n",
            "https://www.allrecipes.com/recipes/728/world-cuisine/latin-american/mexican/\n",
            "https://www.allrecipes.com/recipes/723/world-cuisine/european/italian/\n",
            "https://www.allrecipes.com/recipes/695/world-cuisine/asian/chinese/\n",
            "https://www.allrecipes.com/recipes/233/world-cuisine/asian/indian/\n",
            "https://www.allrecipes.com/recipes/722/world-cuisine/european/german/\n",
            "https://www.allrecipes.com/recipes/731/world-cuisine/european/greek/\n",
            "https://www.allrecipes.com/recipes/696/world-cuisine/asian/filipino/\n",
            "https://www.allrecipes.com/recipes/699/world-cuisine/asian/japanese/\n",
            "https://www.allrecipes.com/cuisine-a-z-6740455\n",
            "https://www.allrecipes.com/kitchen-tips/\n",
            "https://www.allrecipes.com/recipes/22882/everyday-cooking/instant-pot/\n",
            "https://www.allrecipes.com/recipes/23070/everyday-cooking/cookware-and-equipment/air-fryer/\n",
            "https://www.allrecipes.com/recipes/253/everyday-cooking/slow-cooker/\n",
            "https://www.allrecipes.com/food-news-trends/product-reviews/\n",
            "https://www.allrecipes.com/recipes/88/bbq-grilling/\n",
            "https://www.allrecipes.com/recipes/17583/everyday-cooking/cookware-and-equipment/\n",
            "https://www.allrecipes.com/kitchen-tips/all-about-ingredients/substitutions/\n",
            "https://www.allrecipes.com/kitchen-tips/\n",
            "https://www.allrecipes.com/food-news-trends/\n",
            "https://www.allrecipes.com/food-news-trends/celebrity-entertainment/\n",
            "https://www.allrecipes.com/fast-food-8672832\n",
            "https://www.allrecipes.com/grocery-8672835\n",
            "https://www.allrecipes.com/food-news-trends/recalls/\n",
            "https://www.allrecipes.com/food-news-trends/trends/\n",
            "https://www.allrecipes.com/food-news-trends/\n",
            "https://www.allrecipes.com/recipes/1642/everyday-cooking/\n",
            "https://www.allrecipes.com/kitchen-tips/how-to/dinner-fix/\n",
            "https://www.allrecipes.com/kitchen-tips/how-to/sweet-spot/\n",
            "https://www.allrecipes.com/kitchen-tips/in-the-kitchen/\n",
            "https://www.allrecipes.com/about-us-6648102\n",
            "https://www.allrecipes.com/about-us-6648102\n",
            "https://www.allrecipes.com/allstars-8661275\n",
            "https://www.allrecipes.com/article/how-to-submit-recipes/\n",
            "https://www.magazines.com/allrecipes-magazine.html?utm_source=allrecipes.com&utm_medium=owned&utm_campaign=i111arr1w2661\n",
            "https://www.allrecipes.com/authentication/login?regSource=3675&relativeRedirectUrl=%2Frecipe%2F93168%2Frotisserie-chicken%2F\n",
            "/account/add-recipe\n",
            "https://www.myrecipes.com/favorites\n",
            "https://www.allrecipes.com/authentication/logout?relativeRedirectUrl=%2Frecipe%2F93168%2Frotisserie-chicken%2F\n",
            "https://www.magazines.com/allrecipes-magazine.html?utm_source=allrecipes.com&utm_medium=owned&utm_campaign=i111arr1w2661\n",
            "https://www.magazines.com/allrecipes-magazine.html\n",
            "https://www.facebook.com/allrecipes\n",
            "https://www.instagram.com/allrecipes/\n",
            "https://www.pinterest.com/allrecipes/\n",
            "https://www.tiktok.com/@allrecipes\n",
            "https://www.youtube.com/user/allrecipes/videos\n",
            "https://flipboard.com/@Allrecipes\n",
            "https://www.allrecipes.com/recipes/17562/dinner/\n",
            "https://www.allrecipes.com/recipes/17057/everyday-cooking/more-meal-ideas/5-ingredients/main-dishes/\n",
            "https://www.allrecipes.com/recipes/15436/everyday-cooking/one-pot-meals/\n",
            "https://www.allrecipes.com/recipes/1947/everyday-cooking/quick-and-easy/\n",
            "https://www.allrecipes.com/recipes/455/everyday-cooking/more-meal-ideas/30-minute-meals/\n",
            "https://www.allrecipes.com/recipes/17889/everyday-cooking/family-friendly/family-dinners/\n",
            "https://www.allrecipes.com/recipes/94/soups-stews-and-chili/\n",
            "https://www.allrecipes.com/recipes/16099/everyday-cooking/comfort-food/\n",
            "https://www.allrecipes.com/recipes/80/main-dish/\n",
            "https://www.allrecipes.com/recipes/22992/everyday-cooking/sheet-pan-dinners/\n",
            "https://www.allrecipes.com/recipes/17562/dinner/\n",
            "https://www.allrecipes.com/recipes-a-z-6735880\n",
            "https://www.allrecipes.com/recipes/78/breakfast-and-brunch/\n",
            "https://www.allrecipes.com/recipes/17561/lunch/\n",
            "https://www.allrecipes.com/recipes/84/healthy-recipes/\n",
            "https://www.allrecipes.com/recipes/76/appetizers-and-snacks/\n",
            "https://www.allrecipes.com/recipes/96/salad/\n",
            "https://www.allrecipes.com/recipes/81/side-dish/\n",
            "https://www.allrecipes.com/recipes/16369/soups-stews-and-chili/soup/\n",
            "https://www.allrecipes.com/recipes/156/bread/\n",
            "https://www.allrecipes.com/recipes/77/drinks/\n",
            "https://www.allrecipes.com/recipes/79/desserts/\n",
            "https://www.allrecipes.com/recipes-a-z-6735880\n",
            "https://www.allrecipes.com/ingredients-a-z-6740416\n",
            "https://www.allrecipes.com/recipes/201/meat-and-poultry/chicken/\n",
            "https://www.allrecipes.com/recipes/200/meat-and-poultry/beef/\n",
            "https://www.allrecipes.com/recipes/205/meat-and-poultry/pork/\n",
            "https://www.allrecipes.com/recipes/93/seafood/\n",
            "https://www.allrecipes.com/recipes/95/pasta-and-noodles/\n",
            "https://www.allrecipes.com/recipes/1058/fruits-and-vegetables/fruits/\n",
            "https://www.allrecipes.com/recipes/1059/fruits-and-vegetables/vegetables/\n",
            "https://www.allrecipes.com/ingredients-a-z-6740416\n",
            "https://www.allrecipes.com/recipes/85/holidays-and-events/\n",
            "https://www.allrecipes.com/recipes/630/everyday-cooking/seasonal/summer/\n",
            "https://www.allrecipes.com/entertaining/\n",
            "https://www.allrecipes.com/recipes/11985/everyday-cooking/family-friendly/back-to-school/\n",
            "https://www.allrecipes.com/recipes/85/holidays-and-events/\n",
            "https://www.allrecipes.com/cuisine-a-z-6740455\n",
            "https://www.allrecipes.com/recipes/728/world-cuisine/latin-american/mexican/\n",
            "https://www.allrecipes.com/recipes/723/world-cuisine/european/italian/\n",
            "https://www.allrecipes.com/recipes/695/world-cuisine/asian/chinese/\n",
            "https://www.allrecipes.com/recipes/233/world-cuisine/asian/indian/\n",
            "https://www.allrecipes.com/recipes/722/world-cuisine/european/german/\n",
            "https://www.allrecipes.com/recipes/731/world-cuisine/european/greek/\n",
            "https://www.allrecipes.com/recipes/696/world-cuisine/asian/filipino/\n",
            "https://www.allrecipes.com/recipes/699/world-cuisine/asian/japanese/\n",
            "https://www.allrecipes.com/cuisine-a-z-6740455\n",
            "https://www.allrecipes.com/kitchen-tips/\n",
            "https://www.allrecipes.com/recipes/22882/everyday-cooking/instant-pot/\n",
            "https://www.allrecipes.com/recipes/23070/everyday-cooking/cookware-and-equipment/air-fryer/\n",
            "https://www.allrecipes.com/recipes/253/everyday-cooking/slow-cooker/\n",
            "https://www.allrecipes.com/food-news-trends/product-reviews/\n",
            "https://www.allrecipes.com/recipes/88/bbq-grilling/\n",
            "https://www.allrecipes.com/recipes/17583/everyday-cooking/cookware-and-equipment/\n",
            "https://www.allrecipes.com/kitchen-tips/all-about-ingredients/substitutions/\n",
            "https://www.allrecipes.com/kitchen-tips/\n",
            "https://www.allrecipes.com/food-news-trends/\n",
            "https://www.allrecipes.com/food-news-trends/celebrity-entertainment/\n",
            "https://www.allrecipes.com/fast-food-8672832\n",
            "https://www.allrecipes.com/grocery-8672835\n",
            "https://www.allrecipes.com/food-news-trends/recalls/\n",
            "https://www.allrecipes.com/food-news-trends/trends/\n",
            "https://www.allrecipes.com/food-news-trends/\n",
            "https://www.allrecipes.com/recipes/1642/everyday-cooking/\n",
            "https://www.allrecipes.com/kitchen-tips/how-to/dinner-fix/\n",
            "https://www.allrecipes.com/kitchen-tips/how-to/sweet-spot/\n",
            "https://www.allrecipes.com/kitchen-tips/in-the-kitchen/\n",
            "https://www.allrecipes.com/allstars-8661275\n",
            "https://www.allrecipes.com/article/how-to-submit-recipes/\n",
            "https://www.magazines.com/allrecipes-magazine.html?utm_source=allrecipes.com&utm_medium=owned&utm_campaign=i111arr1w2661\n",
            "https://www.allrecipes.com/recipes/\n",
            "https://www.allrecipes.com/recipes/92/meat-and-poultry/\n",
            "https://www.allrecipes.com/recipes/201/meat-and-poultry/chicken/\n",
            "https://www.allrecipes.com/recipes/662/meat-and-poultry/chicken/whole-chicken/\n",
            "https://www.allrecipes.com/gallery/ways-to-use-rotisserie-chicken/\n",
            "https://www.allrecipes.com/gallery/30-minute-recipes-with-rotisserie-chicken/\n",
            "https://www.allrecipes.com/gallery/no-cook-rotisserie-chicken-recipes/\n",
            "https://www.allrecipes.com/cook/1227418\n",
            "https://www.allrecipes.com/cook/17268918\n",
            "https://www.allrecipes.com/cook/1170440\n",
            "https://www.allrecipes.com/author/corey-williams/\n",
            "https://www.allrecipes.com/cook/28884860\n",
            "https://www.allrecipes.com/cook/7383226\n",
            "https://www.allrecipes.com/cook/26904164\n",
            "https://www.allrecipes.com/cook/27213007\n",
            "https://www.allrecipes.com/cook/18164047\n",
            "https://www.allrecipes.com/cook/2380801\n",
            "https://www.allrecipes.com/cook/17007986\n",
            "https://www.allrecipes.com/cook/16849068\n",
            "https://www.allrecipes.com/cook/25840907\n",
            "https://www.allrecipes.com/recipe/238575/cilantro-lime-grilled-chicken/\n",
            "https://www.allrecipes.com/recipe/275062/buttermilk-barbecue-chicken/\n",
            "https://www.allrecipes.com/recipe/274724/grilled-spatchcocked-chicken/\n",
            "https://www.allrecipes.com/recipe/14531/beer-butt-chicken/\n",
            "https://www.allrecipes.com/recipe/221093/good-frickin-paprika-chicken/\n",
            "https://www.allrecipes.com/recipe/264278/miso-honey-chicken/\n",
            "https://www.allrecipes.com/recipe/258659/rosemary-buttermilk-chicken/\n",
            "https://www.allrecipes.com/recipe/222936/smoked-beer-butt-chicken/\n",
            "https://www.allrecipes.com/recipe/228070/the-best-beer-can-chicken-ever/\n",
            "https://www.allrecipes.com/recipe/214619/bbq-beer-can-chicken/\n",
            "https://www.allrecipes.com/recipe/19944/drunk-chicken/\n",
            "https://www.allrecipes.com/recipe/275044/grilled-chicken-under-a-brick/\n",
            "https://www.allrecipes.com/recipe/281255/smoked-whole-chicken/\n",
            "https://www.allrecipes.com/recipe/34957/easy-barbeque-chicken/\n",
            "https://www.allrecipes.com/recipe/8998/darn-good-chicken/\n",
            "https://www.allrecipes.com/recipe/214618/beer-can-chicken/\n",
            "https://www.facebook.com/allrecipes\n",
            "https://www.instagram.com/allrecipes/\n",
            "https://www.pinterest.com/allrecipes/\n",
            "https://www.tiktok.com/@allrecipes\n",
            "https://www.youtube.com/user/allrecipes/videos\n",
            "https://flipboard.com/@Allrecipes\n",
            "https://www.allrecipes.com/recipes/17562/dinner/\n",
            "https://www.allrecipes.com/recipes/\n",
            "https://www.allrecipes.com/recipes/17567/ingredients/\n",
            "https://www.allrecipes.com/recipes/85/holidays-and-events/\n",
            "https://www.allrecipes.com/recipes/86/world-cuisine/\n",
            "https://www.allrecipes.com/kitchen-tips/\n",
            "https://www.allrecipes.com/food-news-trends/\n",
            "https://www.allrecipes.com/recipes/1642/everyday-cooking/\n",
            "https://www.dotdashmeredith.com/brands/food-drink/allrecipes\n"
          ]
        }
      ],
      "execution_count": 35
    },
    {
      "cell_type": "code",
      "source": [
        "from urllib.parse import urljoin\n",
        "\n",
        "base_url = \"https://www.allrecipes.com\"\n",
        "\n",
        "# Filtrar solo recetas reales\n",
        "recipe_urls = []\n",
        "for link in recipe_links:\n",
        "    href = link['href']\n",
        "\n",
        "    # Asegurar que es un link de receta válida\n",
        "    if \"/recipe/\" in href and not any(x in href for x in [\"login\", \"account\", \"favorites\", \"subscribe\", \"#\"]):\n",
        "        # Convertir a URL absoluta si es relativa\n",
        "        if href.startswith(\"/\"):\n",
        "            href = urljoin(base_url, href)\n",
        "\n",
        "        # Evitar duplicados\n",
        "        if href not in recipe_urls:\n",
        "            recipe_urls.append(href)\n",
        "\n",
        "# Mostrar los enlaces de recetas filtrados\n",
        "print(\"Recetas encontradas:\")\n",
        "for url in recipe_urls:\n",
        "    print(url)\n"
      ],
      "metadata": {
        "colab": {
          "base_uri": "https://localhost:8080/"
        },
        "id": "y0nHQ1N1qn9B",
        "outputId": "65a9098c-0680-4bf0-90ed-c4d03a441f80"
      },
      "id": "y0nHQ1N1qn9B",
      "execution_count": 36,
      "outputs": [
        {
          "output_type": "stream",
          "name": "stdout",
          "text": [
            "Recetas encontradas:\n",
            "https://www.allrecipes.com/recipe/238575/cilantro-lime-grilled-chicken/\n",
            "https://www.allrecipes.com/recipe/275062/buttermilk-barbecue-chicken/\n",
            "https://www.allrecipes.com/recipe/274724/grilled-spatchcocked-chicken/\n",
            "https://www.allrecipes.com/recipe/14531/beer-butt-chicken/\n",
            "https://www.allrecipes.com/recipe/221093/good-frickin-paprika-chicken/\n",
            "https://www.allrecipes.com/recipe/264278/miso-honey-chicken/\n",
            "https://www.allrecipes.com/recipe/258659/rosemary-buttermilk-chicken/\n",
            "https://www.allrecipes.com/recipe/222936/smoked-beer-butt-chicken/\n",
            "https://www.allrecipes.com/recipe/228070/the-best-beer-can-chicken-ever/\n",
            "https://www.allrecipes.com/recipe/214619/bbq-beer-can-chicken/\n",
            "https://www.allrecipes.com/recipe/19944/drunk-chicken/\n",
            "https://www.allrecipes.com/recipe/275044/grilled-chicken-under-a-brick/\n",
            "https://www.allrecipes.com/recipe/281255/smoked-whole-chicken/\n",
            "https://www.allrecipes.com/recipe/34957/easy-barbeque-chicken/\n",
            "https://www.allrecipes.com/recipe/8998/darn-good-chicken/\n",
            "https://www.allrecipes.com/recipe/214618/beer-can-chicken/\n"
          ]
        }
      ]
    },
    {
      "cell_type": "code",
      "source": [
        "import requests\n",
        "import time\n",
        "from sentence_transformers import SentenceTransformer\n",
        "import faiss\n",
        "import numpy as np\n",
        "\n",
        "# Construir corpus desde los links válidos\n",
        "corpus = []\n",
        "receta_info = []  # Para almacenar los elementos separados por receta\n",
        "\n",
        "for url in recipe_urls[:10]:\n",
        "    try:\n",
        "        response = requests.get(url, timeout=10)\n",
        "        if response.status_code != 200:\n",
        "            continue\n",
        "\n",
        "        soup = BeautifulSoup(response.text, \"html.parser\")\n",
        "\n",
        "        # Extraer campos clave\n",
        "        title_tag = soup.find(\"meta\", {\"property\": \"og:title\"})\n",
        "        desc_tag = soup.find(\"meta\", {\"name\": \"description\"})\n",
        "\n",
        "        if not title_tag or not title_tag.get(\"content\"):\n",
        "            continue\n",
        "\n",
        "        title = title_tag[\"content\"]\n",
        "        description = desc_tag[\"content\"] if desc_tag and desc_tag.get(\"content\") else \"\"\n",
        "\n",
        "        ingredients = [\n",
        "            i.get_text().strip()\n",
        "            for i in soup.find_all(\"li\", class_=\"mm-recipes-structured-ingredients__list-item\")\n",
        "        ]\n",
        "\n",
        "        instructions = [\n",
        "            i.get_text().strip()\n",
        "            for i in soup.find_all(\"p\", class_=\"comp mntl-sc-block mntl-sc-block-html\")\n",
        "        ]\n",
        "\n",
        "        nutrition_facts = [\n",
        "            n.parent.get_text().strip().replace('\\n', ' ')\n",
        "            for n in soup.find_all(\"span\", class_=\"mm-recipes-nutrition-facts-label__nutrient-name mm-recipes-nutrition-facts-label__nutrient-name--has-postfix\")\n",
        "        ]\n",
        "\n",
        "        full_recipe = f\"{title}\\n{description}\\n\" + \"\\n\".join(ingredients) + \"\\n\" + \"\\n\".join(instructions) + \"\\n\" + \"\\n\".join(nutrition_facts)\n",
        "        corpus.append(full_recipe)\n",
        "\n",
        "        # Guardar los campos separados por si se consulta algo específico\n",
        "        receta_info.append({\n",
        "            \"title\": title,\n",
        "            \"description\": description,\n",
        "            \"ingredients\": ingredients,\n",
        "            \"instructions\": instructions,\n",
        "            \"nutrition_facts\": nutrition_facts\n",
        "        })\n",
        "\n",
        "        print(f\"🍽️ Receta añadida: {title}\")\n",
        "\n",
        "    except Exception as e:\n",
        "        print(f\"🟥 Error en {url}: {e}\")\n",
        "\n",
        "    time.sleep(1)\n",
        "\n",
        "# Cargar el modelo de embeddings\n",
        "model = SentenceTransformer('all-MiniLM-L6-v2')\n",
        "\n",
        "# Generar embeddings del corpus\n",
        "if len(corpus) > 0:\n",
        "    embeddings = model.encode(corpus, normalize_embeddings=True)\n",
        "    embeddings = embeddings.astype('float32')\n",
        "\n",
        "    # Crear el índice FAISS\n",
        "    dimension = embeddings.shape[1]\n",
        "    index = faiss.IndexFlatIP(dimension)\n",
        "    index.add(embeddings)\n",
        "    print(f\"\\nÍndice FAISS creado con {len(corpus)} recetas.\")\n",
        "else:\n",
        "    print(\"\\nEl corpus está vacío. No se pudo crear el índice FAISS.\")\n"
      ],
      "metadata": {
        "colab": {
          "base_uri": "https://localhost:8080/"
        },
        "id": "pavjiBgflAM_",
        "outputId": "de1ad0e1-65d3-4f06-8f28-de36d5330aff"
      },
      "id": "pavjiBgflAM_",
      "execution_count": 44,
      "outputs": [
        {
          "output_type": "stream",
          "name": "stdout",
          "text": [
            "🍽️ Receta añadida: Cilantro-Lime Grilled Chicken\n",
            "🍽️ Receta añadida: Buttermilk Barbecue Chicken\n",
            "🍽️ Receta añadida: Grilled Spatchcocked Chicken\n",
            "🍽️ Receta añadida: Beer Butt Chicken\n",
            "🍽️ Receta añadida: Good Frickin' Paprika Chicken\n",
            "🍽️ Receta añadida: Miso Honey Chicken\n",
            "🍽️ Receta añadida: Rosemary Buttermilk Chicken\n",
            "🍽️ Receta añadida: Smoked Beer Butt Chicken\n",
            "🍽️ Receta añadida: The Best Beer Can Chicken Ever\n",
            "🍽️ Receta añadida: Best Beer Can Chicken\n",
            "\n",
            "Índice FAISS creado con 10 recetas.\n"
          ]
        }
      ]
    },
    {
      "metadata": {
        "id": "6ff760d1b7d059d1"
      },
      "cell_type": "markdown",
      "source": [
        "## Parte 4: Hacer RAG con las recetas obtenidas\n",
        "* Una vez que se ha construido el corpus, implementar y desplegar RAG para realizar búsquedas en el corpus"
      ],
      "id": "6ff760d1b7d059d1"
    },
    {
      "cell_type": "code",
      "source": [
        "# Construir el corpus textual con las recetas\n",
        "corpus = []\n",
        "\n",
        "# Corpus del archivo actual\n",
        "full_recipe = f\"{title}\\n{description}\\n\" + \"\\n\".join(ingredients) + \"\\n\" + \"\\n\".join(instructions) + \"\\n\" + \"\\n\".join(nutrition_facts)\n",
        "corpus.append(full_recipe)"
      ],
      "metadata": {
        "id": "U-qdGjFZlrS0"
      },
      "id": "U-qdGjFZlrS0",
      "execution_count": 45,
      "outputs": []
    },
    {
      "cell_type": "code",
      "source": [
        "# Función para consulta tipo RAG\n",
        "def buscar_receta(query, top_k=1):\n",
        "    query_lower = query.lower().strip()\n",
        "\n",
        "    # Buscar si el nombre de alguna receta está incluido en la pregunta\n",
        "    for receta in receta_info:\n",
        "        titulo = receta[\"title\"].lower().strip()\n",
        "        if titulo in query_lower:\n",
        "            print(f\"\\nResultado:\")\n",
        "            if \"ingrediente\" in query_lower:\n",
        "                print(\"Ingredientes:\")\n",
        "                for ing in receta[\"ingredients\"]:\n",
        "                    print(\"-\", ing)\n",
        "            elif \"instruccion\" in query_lower or \"preparación\" in query_lower:\n",
        "                print(\"Instrucciones:\")\n",
        "                for i, ins in enumerate(receta[\"instructions\"], 1):\n",
        "                    print(f\"{i}. {ins}\")\n",
        "            elif \"descrip\" in query_lower:\n",
        "                print(\"Descripción:\")\n",
        "                print(receta[\"description\"])\n",
        "            elif \"nutri\" in query_lower:\n",
        "                print(\"Información nutricional:\")\n",
        "                for fact in receta[\"nutrition_facts\"]:\n",
        "                    print(\"-\", fact)\n",
        "            else:\n",
        "                print(\"Descripción:\", receta[\"description\"])\n",
        "                print(\"Ingredientes:\")\n",
        "                for ing in receta[\"ingredients\"]:\n",
        "                    print(\"-\", ing)\n",
        "                print(\"Instrucciones:\")\n",
        "                for i, ins in enumerate(receta[\"instructions\"], 1):\n",
        "                    print(f\"{i}. {ins}\")\n",
        "            return\n",
        "\n",
        "    # Si no encontró coincidencia directa, usar similitud\n",
        "    query_vec = model.encode([query], normalize_embeddings=True)\n",
        "\n",
        "    # usar faiss\n",
        "    similarity, indices = index.search(query_vec, top_k)\n"
      ],
      "metadata": {
        "id": "WC072yaOmNlA"
      },
      "id": "WC072yaOmNlA",
      "execution_count": 46,
      "outputs": []
    },
    {
      "cell_type": "code",
      "source": [
        "# Usar el sistema RAG simulado\n",
        "print(\"Sistema RAG de recetas activado. Escribe tu pregunta:\")\n",
        "while True:\n",
        "    pregunta = input(\"\\nTú: \")\n",
        "    if pregunta.strip().lower() == \"salir\":\n",
        "        break\n",
        "    buscar_receta(pregunta)"
      ],
      "metadata": {
        "colab": {
          "base_uri": "https://localhost:8080/"
        },
        "id": "vT4dG_jWmqzJ",
        "outputId": "82104150-692b-4e46-a219-9cadc9b3b43a"
      },
      "id": "vT4dG_jWmqzJ",
      "execution_count": 47,
      "outputs": [
        {
          "name": "stdout",
          "output_type": "stream",
          "text": [
            "Sistema RAG de recetas activado. Escribe tu pregunta:\n",
            "\n",
            "Tú: dame los ingredientes de Smoked Beer Butt Chicken\n",
            "\n",
            "Resultado:\n",
            "Ingredientes:\n",
            "- 1 cup butter, divided\n",
            "- 2 tablespoons garlic salt, divided\n",
            "- 2 tablespoons paprika, divided\n",
            "- salt and pepper to taste\n",
            "- 1 (12 fluid ounce) can beer\n",
            "- 1 (4 pound) whole chicken\n",
            "\n",
            "Tú: dame los factores nutricionales de The Best Beer Can Chicken Ever\n",
            "\n",
            "Resultado:\n",
            "Información nutricional:\n",
            "- Total Fat 29g\n",
            "- Saturated Fat 8g\n",
            "- Cholesterol 162mg\n",
            "- Sodium 480mg\n",
            "- Total Carbohydrate 10g\n",
            "- Dietary Fiber 1g\n",
            "- Total Sugars 7g\n",
            "- Protein 52g\n",
            "- Vitamin C 1mg\n",
            "- Calcium 45mg\n",
            "- Iron 3mg\n",
            "- Potassium 484mg\n",
            "\n",
            "Tú: dame una descripcion de Grilled Spatchcocked Chicken\n",
            "\n",
            "Resultado:\n",
            "Descripción:\n",
            "This grilled spatchcock chicken recipe calls for removing the chicken's backbone and spreading it open like a book for quicker and more even cooking.\n",
            "\n",
            "Tú: Grilled Spatchcocked Chicken\n",
            "\n",
            "Resultado:\n",
            "Descripción: This grilled spatchcock chicken recipe calls for removing the chicken's backbone and spreading it open like a book for quicker and more even cooking.\n",
            "Ingredientes:\n",
            "- ¼ cup kosher salt\n",
            "- water\n",
            "- 1 (4 pound) whole chicken\n",
            "- 2 teaspoons smoked paprika\n",
            "- 2 teaspoons garlic powder\n",
            "- ½ teaspoon ground cumin\n",
            "- ½ teaspoon ground black pepper\n",
            "- ¼ cup barbecue sauce, or to taste (Optional)\n",
            "Instrucciones:\n",
            "1. Place salt in a large bowl or Dutch oven; add a little water and stir until salt is dissolved. Place chicken in salt water brine; add enough water to cover chicken. Refrigerate up to 4 hours.\n",
            "2. Remove chicken from brine, drain, and pat dry with paper towels. Place chicken, breast-side down, on a clean cutting board.\n",
            "3. Cut along both sides of chicken backbone using kitchen shears. Remove bone; reserve for another use or discard. Maintain skin-side down position; cut into breast bone and a bit of the cartilage above the bone about 1/4-inch deep using the tip of a sharp knife. Flip chicken skin-side up.\n",
            "4. Place the heel of one hand on top of other hand's wrist; press down on the center of the breast using the heel of the hand on top of the cut area to flatten the center and achieve a more uniform thickness.\n",
            "5. Combine smoked paprika, garlic powder, cumin, and black pepper in a small bowl; rub onto both sides of chicken, gently lifting the skin wherever possible to place some rub directly onto meat. Refrigerate seasoned chicken uncovered for at least 2 hours.\n",
            "6. Remove chicken from the refrigerator before grilling so it can come to room temperature for 10 to 15 minutes.\n",
            "7. Preheat an outdoor grill for medium heat to about 375 degrees F (190 degrees C) and lightly oil the grate.\n",
            "8. Place chicken, bone-side down, onto the preheated grill and cook for 50 to 60 minutes. An instant-read thermometer inserted near but not touching the bone should read 150 degrees F (65 degrees C). Flip chicken, skin-side up; brush with barbecue sauce. Continue grilling until chicken is no longer pink at the bone and the juices run clear, about 20 minutes more. An instant-read thermometer inserted near but not touching the bone should read 165 degrees F (74 degrees C).\n",
            "9. Transfer chicken to a platter, tent with foil, and rest for about 10 minutes. Cut into 6 servings. Serve with additional barbecue sauce.\n",
            "\n",
            "Tú: dame los factores nutricionales deGrilled Spatchcocked Chicken\n",
            "\n",
            "Resultado:\n",
            "Información nutricional:\n",
            "- Total Fat 13g\n",
            "- Saturated Fat 4g\n",
            "- Cholesterol 151mg\n",
            "- Sodium 4060mg\n",
            "- Total Carbohydrate 5g\n",
            "- Dietary Fiber 1g\n",
            "- Total Sugars 3g\n",
            "- Protein 50g\n",
            "- Vitamin C 1mg\n",
            "- Calcium 32mg\n",
            "- Iron 3mg\n",
            "- Potassium 469mg\n",
            "\n",
            "Tú: salir\n"
          ]
        }
      ]
    }
  ],
  "metadata": {
    "kernelspec": {
      "display_name": "Python 3",
      "language": "python",
      "name": "python3"
    },
    "language_info": {
      "codemirror_mode": {
        "name": "ipython",
        "version": 2
      },
      "file_extension": ".py",
      "mimetype": "text/x-python",
      "name": "python",
      "nbconvert_exporter": "python",
      "pygments_lexer": "ipython2",
      "version": "2.7.6"
    },
    "colab": {
      "provenance": []
    }
  },
  "nbformat": 4,
  "nbformat_minor": 5
}