{
  "cells": [
    {
      "metadata": {
        "id": "d3f8b5c16e7eb563"
      },
      "cell_type": "markdown",
      "source": [
        "# Ejercicio 6: Dense Retrieval e Introducción a FAISS\n",
        "\n",
        "## Objetivo de la práctica\n",
        "\n",
        "Generar embeddings con sentence-transformers (SBERT, E5), e indexar documentos con FAISS"
      ],
      "id": "d3f8b5c16e7eb563"
    },
    {
      "metadata": {
        "id": "cdd69ed7fcbeef9d"
      },
      "cell_type": "markdown",
      "source": [
        "## Parte 0: Carga del Corpus\n",
        "### Actividad\n",
        "\n",
        "1. Carga el corpus 20 Newsgroups desde sklearn.datasets.fetch_20newsgroups.\n",
        "2. Limita el corpus a los primeros 2000 documentos para facilitar el procesamiento."
      ],
      "id": "cdd69ed7fcbeef9d"
    },
    {
      "metadata": {
        "id": "b00fbde6cfc88b"
      },
      "cell_type": "code",
      "outputs": [],
      "execution_count": 19,
      "source": [
        "# Carga del corpus 20 Newsgroups.\n",
        "from sklearn.datasets import fetch_20newsgroups"
      ],
      "id": "b00fbde6cfc88b"
    },
    {
      "cell_type": "code",
      "source": [
        "# Limitar el corpus a los primeros 2000 documentos.\n",
        "newsgroups = fetch_20newsgroups(subset='all', remove=('headers', 'footers', 'quotes'))\n",
        "newsgroupsdocs = newsgroups.data[:2000]"
      ],
      "metadata": {
        "id": "Mx_O6ZoBKk4t"
      },
      "id": "Mx_O6ZoBKk4t",
      "execution_count": 20,
      "outputs": []
    },
    {
      "metadata": {
        "id": "b9184f4b3e66e20a"
      },
      "cell_type": "markdown",
      "source": [
        "## Parte 2: Generación de Embeddings\n",
        "### Actividad\n",
        "\n",
        "1. Usa dos modelos de sentence-transformers. Puedes usar: `'all-MiniLM-L6-v2'` (SBERT), o `'intfloat/e5-base'` (E5). Cuando uses E5, antepon `\"passage: \"` a cada documento antes de codificar.\n",
        "2. Genera los vectores de embeddings para todos los documentos usando el modelo seleccionado.\n",
        "3. Guarda los embeddings en un array de NumPy para su posterior indexación."
      ],
      "id": "b9184f4b3e66e20a"
    },
    {
      "metadata": {
        "colab": {
          "base_uri": "https://localhost:8080/",
          "height": 49,
          "referenced_widgets": [
            "5b52b72101704b9caa8ac2191f1e0c36",
            "eb4bfe4ebe00473d890cb3f1e2eefb1a",
            "23d6ebbe0eac478db3252beb50519215",
            "e885cf2969a740eba4356bfe0b0546f8",
            "d6c487dc054b4dcc9c2a488d9d2cef89",
            "65e4625be4e14d29ba977ae5472cb7ea",
            "de32cc51b64c40eba6a59c5b0435d165",
            "6b09366ad693493185e575960007ac34",
            "d08ccb843b7a4e94a9feeab439110a14",
            "d3868a7687be43f6a328a258475c5383",
            "8ae703efc0664300a4e679e59ace0db4"
          ]
        },
        "id": "525ae7515c6169d9",
        "outputId": "f184cbca-e110-41b0-ef98-97e2b5820653"
      },
      "cell_type": "code",
      "outputs": [
        {
          "output_type": "display_data",
          "data": {
            "text/plain": [
              "Batches:   0%|          | 0/63 [00:00<?, ?it/s]"
            ],
            "application/vnd.jupyter.widget-view+json": {
              "version_major": 2,
              "version_minor": 0,
              "model_id": "5b52b72101704b9caa8ac2191f1e0c36"
            }
          },
          "metadata": {}
        }
      ],
      "execution_count": 21,
      "source": [
        "# Usar el modelo sentence-transformers\n",
        "from sentence_transformers import SentenceTransformer\n",
        "model = SentenceTransformer('all-MiniLM-L6-v2')\n",
        "# Genera los vectores de embeddings para todos los documentos usando el modelo seleccionado.\n",
        "embeddings = model.encode(newsgroupsdocs, show_progress_bar=True)"
      ],
      "id": "525ae7515c6169d9"
    },
    {
      "cell_type": "code",
      "source": [
        "import numpy as np\n",
        "import pandas as pd\n",
        "# Generar una estructura de datos con id, newsgroupsdocs, doc_embedding\n",
        "data = []\n",
        "for idx, (doc, embedding) in enumerate(zip(newsgroupsdocs, embeddings)):\n",
        "    data.append((idx, doc, embedding))\n",
        "# Convertir a DataFrame para visualización clara\n",
        "df = pd.DataFrame(data, columns=['id', 'doc', 'doc-embedding'])\n",
        "print(df.head(10))"
      ],
      "metadata": {
        "colab": {
          "base_uri": "https://localhost:8080/"
        },
        "id": "WjBccL61OV6b",
        "outputId": "ef7f62c9-c182-4053-ac7e-898b578321a4"
      },
      "id": "WjBccL61OV6b",
      "execution_count": 22,
      "outputs": [
        {
          "output_type": "stream",
          "name": "stdout",
          "text": [
            "   id                                                doc  \\\n",
            "0   0  \\n\\nI am sure some bashers of Pens fans are pr...   \n",
            "1   1  My brother is in the market for a high-perform...   \n",
            "2   2  \\n\\n\\n\\n\\tFinally you said what you dream abou...   \n",
            "3   3  \\nThink!\\n\\nIt's the SCSI card doing the DMA t...   \n",
            "4   4  1)    I have an old Jasmine drive which I cann...   \n",
            "5   5  \\n\\nBack in high school I worked as a lab assi...   \n",
            "6   6  \\n\\nAE is in Dallas...try 214/241-6060 or 214/...   \n",
            "7   7  \\n[stuff deleted]\\n\\nOk, here's the solution t...   \n",
            "8   8  \\n\\n\\nYeah, it's the second one.  And I believ...   \n",
            "9   9  \\nIf a Christian means someone who believes in...   \n",
            "\n",
            "                                       doc-embedding  \n",
            "0  [0.0020779956, 0.023450442, 0.024808843, -0.01...  \n",
            "1  [0.050060306, 0.02698094, -0.008864783, -0.035...  \n",
            "2  [0.016404718, 0.08100051, -0.049535986, -0.008...  \n",
            "3  [-0.019391451, 0.011494355, -0.014787266, -0.0...  \n",
            "4  [-0.0392871, -0.055402845, -0.07453618, -0.012...  \n",
            "5  [0.02106599, -0.041391592, 0.0050711893, -0.03...  \n",
            "6  [-0.04156249, -0.0389903, 0.038600568, -0.0106...  \n",
            "7  [0.03844786, -0.060303897, 0.03340912, -0.0564...  \n",
            "8  [-0.047790166, 0.078570694, -0.018352605, -0.0...  \n",
            "9  [-0.068609096, 0.018217156, -0.06611755, 0.029...  \n"
          ]
        }
      ]
    },
    {
      "cell_type": "code",
      "source": [
        "# Guardar los embeddings en un array para luego ser indexados\n",
        "doc_embeddings = np.array(embeddings)"
      ],
      "metadata": {
        "id": "Cfq5YwEzRqi6"
      },
      "id": "Cfq5YwEzRqi6",
      "execution_count": 23,
      "outputs": []
    },
    {
      "metadata": {
        "id": "e53b50365064d2b1"
      },
      "cell_type": "markdown",
      "source": [
        "## Parte 3: Indexación con FAISS\n",
        "### Actividad\n",
        "\n",
        "1. Crea un índice plano con faiss.IndexFlatL2 para búsquedas por distancia euclidiana.\n",
        "2. Asegúrate de usar la dimensión correcta `(embedding_dim = doc_embeddings.shape[1])`.\n",
        "3. Agrega los vectores de documentos al índice."
      ],
      "id": "e53b50365064d2b1"
    },
    {
      "cell_type": "code",
      "source": [
        "!pip install faiss-cpu"
      ],
      "metadata": {
        "colab": {
          "base_uri": "https://localhost:8080/"
        },
        "id": "xssFjbmRVgJ6",
        "outputId": "5010bf58-9484-463e-c3a8-2620eff80230"
      },
      "id": "xssFjbmRVgJ6",
      "execution_count": 25,
      "outputs": [
        {
          "output_type": "stream",
          "name": "stdout",
          "text": [
            "Collecting faiss-cpu\n",
            "  Downloading faiss_cpu-1.11.0-cp311-cp311-manylinux_2_28_x86_64.whl.metadata (4.8 kB)\n",
            "Requirement already satisfied: numpy<3.0,>=1.25.0 in /usr/local/lib/python3.11/dist-packages (from faiss-cpu) (2.0.2)\n",
            "Requirement already satisfied: packaging in /usr/local/lib/python3.11/dist-packages (from faiss-cpu) (24.2)\n",
            "Downloading faiss_cpu-1.11.0-cp311-cp311-manylinux_2_28_x86_64.whl (31.3 MB)\n",
            "\u001b[2K   \u001b[90m━━━━━━━━━━━━━━━━━━━━━━━━━━━━━━━━━━━━━━━━\u001b[0m \u001b[32m31.3/31.3 MB\u001b[0m \u001b[31m17.4 MB/s\u001b[0m eta \u001b[36m0:00:00\u001b[0m\n",
            "\u001b[?25hInstalling collected packages: faiss-cpu\n",
            "Successfully installed faiss-cpu-1.11.0\n"
          ]
        }
      ]
    },
    {
      "metadata": {
        "id": "96c723e6189ab1fd"
      },
      "cell_type": "code",
      "outputs": [],
      "execution_count": 28,
      "source": [
        "import faiss\n",
        "# Vectores de documentos.\n",
        "embedding_dim = doc_embeddings.shape[1]\n",
        "# Índice de  para búsquedas por distancia euclidiana\n",
        "index = faiss.IndexFlatL2(embedding_dim)"
      ],
      "id": "96c723e6189ab1fd"
    },
    {
      "metadata": {
        "id": "40462a067ca2d379"
      },
      "cell_type": "markdown",
      "source": [
        "## Parte 4: Consulta Semántica\n",
        "### Actividad\n",
        "\n",
        "1. Escribe una consulta en lenguaje natural. Ejemplos:\n",
        "\n",
        "    * \"God, religion, and spirituality\"\n",
        "    * \"space exploration\"\n",
        "    * \"car maintenance\"\n",
        "\n",
        "2. Codifica la consulta utilizando el mismo modelo de embeddings. Cuando uses E5, antepon `\"query: \"` a la consulta.\n",
        "3. Recupera los 5 documentos más relevantes con `index.search(...)`.\n",
        "4. Muestra los textos de los documentos recuperados (puedes mostrar solo los primeros 500 caracteres de cada uno)."
      ],
      "id": "40462a067ca2d379"
    },
    {
      "metadata": {
        "id": "aad085806124c709"
      },
      "cell_type": "code",
      "outputs": [],
      "execution_count": 29,
      "source": [
        "query = \"God, religion, and spirituality\"\n",
        "# Codifica la consulta utilizando el mismo modelo de embeddings.\n",
        "query_embedding = model.encode([query])"
      ],
      "id": "aad085806124c709"
    },
    {
      "cell_type": "code",
      "source": [
        "# Recuperación de los 5 documentos más relevantes.\n",
        "k = 5\n",
        "distances, indices = index.search(query_embedding, k)"
      ],
      "metadata": {
        "id": "NAt8aFdAWimB"
      },
      "id": "NAt8aFdAWimB",
      "execution_count": 30,
      "outputs": []
    },
    {
      "cell_type": "code",
      "source": [
        "# Muestra los textos de los documentos recuperados, mostrando los primeros 500 caracteres de cada uno\n",
        "for idx in indices[0]:\n",
        "    print(newsgroupsdocs[idx][:500])"
      ],
      "metadata": {
        "colab": {
          "base_uri": "https://localhost:8080/"
        },
        "id": "zExLydepWrFZ",
        "outputId": "0f293120-cd8d-4b3e-b0bb-f5a539b4404a"
      },
      "id": "zExLydepWrFZ",
      "execution_count": 31,
      "outputs": [
        {
          "output_type": "stream",
          "name": "stdout",
          "text": [
            "I know that the placebo effect is where a patient feels better or \n",
            "even gets better because of his/her belief in the medicine and \n",
            "the doctor administering it.  Is there also an anti-placebo \n",
            "effect where the patient dislikes/distrusts doctors and medicine \n",
            "and therefore doesn't get better or feel better in spite of the \n",
            "medicine?\n",
            "\n",
            "Is there an effect where the doctor believes so strongly in a \n",
            "medicine that he/she sees improvement where the is none or sees \n",
            "more improvement than there is?  If so\n",
            "I know that the placebo effect is where a patient feels better or \n",
            "even gets better because of his/her belief in the medicine and \n",
            "the doctor administering it.  Is there also an anti-placebo \n",
            "effect where the patient dislikes/distrusts doctors and medicine \n",
            "and therefore doesn't get better or feel better in spite of the \n",
            "medicine?\n",
            "\n",
            "Is there an effect where the doctor believes so strongly in a \n",
            "medicine that he/she sees improvement where the is none or sees \n",
            "more improvement than there is?  If so\n",
            "I know that the placebo effect is where a patient feels better or \n",
            "even gets better because of his/her belief in the medicine and \n",
            "the doctor administering it.  Is there also an anti-placebo \n",
            "effect where the patient dislikes/distrusts doctors and medicine \n",
            "and therefore doesn't get better or feel better in spite of the \n",
            "medicine?\n",
            "\n",
            "Is there an effect where the doctor believes so strongly in a \n",
            "medicine that he/she sees improvement where the is none or sees \n",
            "more improvement than there is?  If so\n",
            "I know that the placebo effect is where a patient feels better or \n",
            "even gets better because of his/her belief in the medicine and \n",
            "the doctor administering it.  Is there also an anti-placebo \n",
            "effect where the patient dislikes/distrusts doctors and medicine \n",
            "and therefore doesn't get better or feel better in spite of the \n",
            "medicine?\n",
            "\n",
            "Is there an effect where the doctor believes so strongly in a \n",
            "medicine that he/she sees improvement where the is none or sees \n",
            "more improvement than there is?  If so\n",
            "I know that the placebo effect is where a patient feels better or \n",
            "even gets better because of his/her belief in the medicine and \n",
            "the doctor administering it.  Is there also an anti-placebo \n",
            "effect where the patient dislikes/distrusts doctors and medicine \n",
            "and therefore doesn't get better or feel better in spite of the \n",
            "medicine?\n",
            "\n",
            "Is there an effect where the doctor believes so strongly in a \n",
            "medicine that he/she sees improvement where the is none or sees \n",
            "more improvement than there is?  If so\n"
          ]
        }
      ]
    },
    {
      "metadata": {
        "id": "2dc9e5e7815c7508"
      },
      "cell_type": "markdown",
      "source": [],
      "id": "2dc9e5e7815c7508"
    }
  ],
  "metadata": {
    "kernelspec": {
      "display_name": "Python 3",
      "language": "python",
      "name": "python3"
    },
    "language_info": {
      "codemirror_mode": {
        "name": "ipython",
        "version": 2
      },
      "file_extension": ".py",
      "mimetype": "text/x-python",
      "name": "python",
      "nbconvert_exporter": "python",
      "pygments_lexer": "ipython2",
      "version": "2.7.6"
    },
    "colab": {
      "provenance": []
    },
    "widgets": {
      "application/vnd.jupyter.widget-state+json": {
        "5b52b72101704b9caa8ac2191f1e0c36": {
          "model_module": "@jupyter-widgets/controls",
          "model_name": "HBoxModel",
          "model_module_version": "1.5.0",
          "state": {
            "_dom_classes": [],
            "_model_module": "@jupyter-widgets/controls",
            "_model_module_version": "1.5.0",
            "_model_name": "HBoxModel",
            "_view_count": null,
            "_view_module": "@jupyter-widgets/controls",
            "_view_module_version": "1.5.0",
            "_view_name": "HBoxView",
            "box_style": "",
            "children": [
              "IPY_MODEL_eb4bfe4ebe00473d890cb3f1e2eefb1a",
              "IPY_MODEL_23d6ebbe0eac478db3252beb50519215",
              "IPY_MODEL_e885cf2969a740eba4356bfe0b0546f8"
            ],
            "layout": "IPY_MODEL_d6c487dc054b4dcc9c2a488d9d2cef89"
          }
        },
        "eb4bfe4ebe00473d890cb3f1e2eefb1a": {
          "model_module": "@jupyter-widgets/controls",
          "model_name": "HTMLModel",
          "model_module_version": "1.5.0",
          "state": {
            "_dom_classes": [],
            "_model_module": "@jupyter-widgets/controls",
            "_model_module_version": "1.5.0",
            "_model_name": "HTMLModel",
            "_view_count": null,
            "_view_module": "@jupyter-widgets/controls",
            "_view_module_version": "1.5.0",
            "_view_name": "HTMLView",
            "description": "",
            "description_tooltip": null,
            "layout": "IPY_MODEL_65e4625be4e14d29ba977ae5472cb7ea",
            "placeholder": "​",
            "style": "IPY_MODEL_de32cc51b64c40eba6a59c5b0435d165",
            "value": "Batches: 100%"
          }
        },
        "23d6ebbe0eac478db3252beb50519215": {
          "model_module": "@jupyter-widgets/controls",
          "model_name": "FloatProgressModel",
          "model_module_version": "1.5.0",
          "state": {
            "_dom_classes": [],
            "_model_module": "@jupyter-widgets/controls",
            "_model_module_version": "1.5.0",
            "_model_name": "FloatProgressModel",
            "_view_count": null,
            "_view_module": "@jupyter-widgets/controls",
            "_view_module_version": "1.5.0",
            "_view_name": "ProgressView",
            "bar_style": "success",
            "description": "",
            "description_tooltip": null,
            "layout": "IPY_MODEL_6b09366ad693493185e575960007ac34",
            "max": 63,
            "min": 0,
            "orientation": "horizontal",
            "style": "IPY_MODEL_d08ccb843b7a4e94a9feeab439110a14",
            "value": 63
          }
        },
        "e885cf2969a740eba4356bfe0b0546f8": {
          "model_module": "@jupyter-widgets/controls",
          "model_name": "HTMLModel",
          "model_module_version": "1.5.0",
          "state": {
            "_dom_classes": [],
            "_model_module": "@jupyter-widgets/controls",
            "_model_module_version": "1.5.0",
            "_model_name": "HTMLModel",
            "_view_count": null,
            "_view_module": "@jupyter-widgets/controls",
            "_view_module_version": "1.5.0",
            "_view_name": "HTMLView",
            "description": "",
            "description_tooltip": null,
            "layout": "IPY_MODEL_d3868a7687be43f6a328a258475c5383",
            "placeholder": "​",
            "style": "IPY_MODEL_8ae703efc0664300a4e679e59ace0db4",
            "value": " 63/63 [02:01&lt;00:00,  2.58it/s]"
          }
        },
        "d6c487dc054b4dcc9c2a488d9d2cef89": {
          "model_module": "@jupyter-widgets/base",
          "model_name": "LayoutModel",
          "model_module_version": "1.2.0",
          "state": {
            "_model_module": "@jupyter-widgets/base",
            "_model_module_version": "1.2.0",
            "_model_name": "LayoutModel",
            "_view_count": null,
            "_view_module": "@jupyter-widgets/base",
            "_view_module_version": "1.2.0",
            "_view_name": "LayoutView",
            "align_content": null,
            "align_items": null,
            "align_self": null,
            "border": null,
            "bottom": null,
            "display": null,
            "flex": null,
            "flex_flow": null,
            "grid_area": null,
            "grid_auto_columns": null,
            "grid_auto_flow": null,
            "grid_auto_rows": null,
            "grid_column": null,
            "grid_gap": null,
            "grid_row": null,
            "grid_template_areas": null,
            "grid_template_columns": null,
            "grid_template_rows": null,
            "height": null,
            "justify_content": null,
            "justify_items": null,
            "left": null,
            "margin": null,
            "max_height": null,
            "max_width": null,
            "min_height": null,
            "min_width": null,
            "object_fit": null,
            "object_position": null,
            "order": null,
            "overflow": null,
            "overflow_x": null,
            "overflow_y": null,
            "padding": null,
            "right": null,
            "top": null,
            "visibility": null,
            "width": null
          }
        },
        "65e4625be4e14d29ba977ae5472cb7ea": {
          "model_module": "@jupyter-widgets/base",
          "model_name": "LayoutModel",
          "model_module_version": "1.2.0",
          "state": {
            "_model_module": "@jupyter-widgets/base",
            "_model_module_version": "1.2.0",
            "_model_name": "LayoutModel",
            "_view_count": null,
            "_view_module": "@jupyter-widgets/base",
            "_view_module_version": "1.2.0",
            "_view_name": "LayoutView",
            "align_content": null,
            "align_items": null,
            "align_self": null,
            "border": null,
            "bottom": null,
            "display": null,
            "flex": null,
            "flex_flow": null,
            "grid_area": null,
            "grid_auto_columns": null,
            "grid_auto_flow": null,
            "grid_auto_rows": null,
            "grid_column": null,
            "grid_gap": null,
            "grid_row": null,
            "grid_template_areas": null,
            "grid_template_columns": null,
            "grid_template_rows": null,
            "height": null,
            "justify_content": null,
            "justify_items": null,
            "left": null,
            "margin": null,
            "max_height": null,
            "max_width": null,
            "min_height": null,
            "min_width": null,
            "object_fit": null,
            "object_position": null,
            "order": null,
            "overflow": null,
            "overflow_x": null,
            "overflow_y": null,
            "padding": null,
            "right": null,
            "top": null,
            "visibility": null,
            "width": null
          }
        },
        "de32cc51b64c40eba6a59c5b0435d165": {
          "model_module": "@jupyter-widgets/controls",
          "model_name": "DescriptionStyleModel",
          "model_module_version": "1.5.0",
          "state": {
            "_model_module": "@jupyter-widgets/controls",
            "_model_module_version": "1.5.0",
            "_model_name": "DescriptionStyleModel",
            "_view_count": null,
            "_view_module": "@jupyter-widgets/base",
            "_view_module_version": "1.2.0",
            "_view_name": "StyleView",
            "description_width": ""
          }
        },
        "6b09366ad693493185e575960007ac34": {
          "model_module": "@jupyter-widgets/base",
          "model_name": "LayoutModel",
          "model_module_version": "1.2.0",
          "state": {
            "_model_module": "@jupyter-widgets/base",
            "_model_module_version": "1.2.0",
            "_model_name": "LayoutModel",
            "_view_count": null,
            "_view_module": "@jupyter-widgets/base",
            "_view_module_version": "1.2.0",
            "_view_name": "LayoutView",
            "align_content": null,
            "align_items": null,
            "align_self": null,
            "border": null,
            "bottom": null,
            "display": null,
            "flex": null,
            "flex_flow": null,
            "grid_area": null,
            "grid_auto_columns": null,
            "grid_auto_flow": null,
            "grid_auto_rows": null,
            "grid_column": null,
            "grid_gap": null,
            "grid_row": null,
            "grid_template_areas": null,
            "grid_template_columns": null,
            "grid_template_rows": null,
            "height": null,
            "justify_content": null,
            "justify_items": null,
            "left": null,
            "margin": null,
            "max_height": null,
            "max_width": null,
            "min_height": null,
            "min_width": null,
            "object_fit": null,
            "object_position": null,
            "order": null,
            "overflow": null,
            "overflow_x": null,
            "overflow_y": null,
            "padding": null,
            "right": null,
            "top": null,
            "visibility": null,
            "width": null
          }
        },
        "d08ccb843b7a4e94a9feeab439110a14": {
          "model_module": "@jupyter-widgets/controls",
          "model_name": "ProgressStyleModel",
          "model_module_version": "1.5.0",
          "state": {
            "_model_module": "@jupyter-widgets/controls",
            "_model_module_version": "1.5.0",
            "_model_name": "ProgressStyleModel",
            "_view_count": null,
            "_view_module": "@jupyter-widgets/base",
            "_view_module_version": "1.2.0",
            "_view_name": "StyleView",
            "bar_color": null,
            "description_width": ""
          }
        },
        "d3868a7687be43f6a328a258475c5383": {
          "model_module": "@jupyter-widgets/base",
          "model_name": "LayoutModel",
          "model_module_version": "1.2.0",
          "state": {
            "_model_module": "@jupyter-widgets/base",
            "_model_module_version": "1.2.0",
            "_model_name": "LayoutModel",
            "_view_count": null,
            "_view_module": "@jupyter-widgets/base",
            "_view_module_version": "1.2.0",
            "_view_name": "LayoutView",
            "align_content": null,
            "align_items": null,
            "align_self": null,
            "border": null,
            "bottom": null,
            "display": null,
            "flex": null,
            "flex_flow": null,
            "grid_area": null,
            "grid_auto_columns": null,
            "grid_auto_flow": null,
            "grid_auto_rows": null,
            "grid_column": null,
            "grid_gap": null,
            "grid_row": null,
            "grid_template_areas": null,
            "grid_template_columns": null,
            "grid_template_rows": null,
            "height": null,
            "justify_content": null,
            "justify_items": null,
            "left": null,
            "margin": null,
            "max_height": null,
            "max_width": null,
            "min_height": null,
            "min_width": null,
            "object_fit": null,
            "object_position": null,
            "order": null,
            "overflow": null,
            "overflow_x": null,
            "overflow_y": null,
            "padding": null,
            "right": null,
            "top": null,
            "visibility": null,
            "width": null
          }
        },
        "8ae703efc0664300a4e679e59ace0db4": {
          "model_module": "@jupyter-widgets/controls",
          "model_name": "DescriptionStyleModel",
          "model_module_version": "1.5.0",
          "state": {
            "_model_module": "@jupyter-widgets/controls",
            "_model_module_version": "1.5.0",
            "_model_name": "DescriptionStyleModel",
            "_view_count": null,
            "_view_module": "@jupyter-widgets/base",
            "_view_module_version": "1.2.0",
            "_view_name": "StyleView",
            "description_width": ""
          }
        }
      }
    }
  },
  "nbformat": 4,
  "nbformat_minor": 5
}