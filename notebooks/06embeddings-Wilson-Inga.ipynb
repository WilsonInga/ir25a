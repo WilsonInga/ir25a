{
  "cells": [
    {
      "cell_type": "markdown",
      "id": "d3f8b5c16e7eb563",
      "metadata": {
        "id": "d3f8b5c16e7eb563"
      },
      "source": [
        "# Ejercicio 6: Dense Retrieval e Introducción a FAISS\n",
        "\n",
        "## Objetivo de la práctica\n",
        "\n",
        "Generar embeddings con sentence-transformers (SBERT, E5), e indexar documentos con FAISS"
      ]
    },
    {
      "cell_type": "markdown",
      "id": "cdd69ed7fcbeef9d",
      "metadata": {
        "id": "cdd69ed7fcbeef9d"
      },
      "source": [
        "## Parte 0: Carga del Corpus\n",
        "### Actividad\n",
        "\n",
        "1. Carga el corpus 20 Newsgroups desde sklearn.datasets.fetch_20newsgroups.\n",
        "2. Limita el corpus a los primeros 2000 documentos para facilitar el procesamiento."
      ]
    },
    {
      "cell_type": "code",
      "execution_count": 22,
      "id": "b00fbde6cfc88b",
      "metadata": {
        "id": "b00fbde6cfc88b"
      },
      "outputs": [],
      "source": [
        "# Carga del corpus 20 Newsgroups.\n",
        "from sklearn.datasets import fetch_20newsgroups"
      ]
    },
    {
      "cell_type": "code",
      "execution_count": 23,
      "id": "Mx_O6ZoBKk4t",
      "metadata": {
        "id": "Mx_O6ZoBKk4t"
      },
      "outputs": [],
      "source": [
        "# Limitar el corpus a los primeros 2000 documentos.\n",
        "newsgroups = fetch_20newsgroups(subset='all', remove=('headers', 'footers', 'quotes'))\n",
        "newsgroupsdocs = newsgroups.data[:2000]"
      ]
    },
    {
      "cell_type": "markdown",
      "id": "b9184f4b3e66e20a",
      "metadata": {
        "id": "b9184f4b3e66e20a"
      },
      "source": [
        "## Parte 2: Generación de Embeddings\n",
        "### Actividad\n",
        "\n",
        "1. Usa dos modelos de sentence-transformers. Puedes usar: `'all-MiniLM-L6-v2'` (SBERT), o `'intfloat/e5-base'` (E5). Cuando uses E5, antepon `\"passage: \"` a cada documento antes de codificar.\n",
        "2. Genera los vectores de embeddings para todos los documentos usando el modelo seleccionado.\n",
        "3. Guarda los embeddings en un array de NumPy para su posterior indexación."
      ]
    },
    {
      "cell_type": "code",
      "execution_count": 24,
      "id": "525ae7515c6169d9",
      "metadata": {
        "colab": {
          "base_uri": "https://localhost:8080/",
          "height": 49,
          "referenced_widgets": [
            "5b52b72101704b9caa8ac2191f1e0c36",
            "eb4bfe4ebe00473d890cb3f1e2eefb1a",
            "23d6ebbe0eac478db3252beb50519215",
            "e885cf2969a740eba4356bfe0b0546f8",
            "d6c487dc054b4dcc9c2a488d9d2cef89",
            "65e4625be4e14d29ba977ae5472cb7ea",
            "de32cc51b64c40eba6a59c5b0435d165",
            "6b09366ad693493185e575960007ac34",
            "d08ccb843b7a4e94a9feeab439110a14",
            "d3868a7687be43f6a328a258475c5383",
            "8ae703efc0664300a4e679e59ace0db4"
          ]
        },
        "id": "525ae7515c6169d9",
        "outputId": "f184cbca-e110-41b0-ef98-97e2b5820653"
      },
      "outputs": [],
      "source": [
        "# Usar el modelo sentence-transformers\n",
        "from sentence_transformers import SentenceTransformer\n",
        "model = SentenceTransformer('all-MiniLM-L6-v2')\n",
        "# Genera los vectores de embeddings para todos los documentos usando el modelo seleccionado.\n",
        "embeddings = model.encode(newsgroupsdocs)"
      ]
    },
    {
      "cell_type": "code",
      "execution_count": 25,
      "id": "WjBccL61OV6b",
      "metadata": {
        "colab": {
          "base_uri": "https://localhost:8080/"
        },
        "id": "WjBccL61OV6b",
        "outputId": "ef7f62c9-c182-4053-ac7e-898b578321a4"
      },
      "outputs": [
        {
          "name": "stdout",
          "output_type": "stream",
          "text": [
            "   id                                                doc  \\\n",
            "0   0  \\n\\nI am sure some bashers of Pens fans are pr...   \n",
            "1   1  My brother is in the market for a high-perform...   \n",
            "2   2  \\n\\n\\n\\n\\tFinally you said what you dream abou...   \n",
            "3   3  \\nThink!\\n\\nIt's the SCSI card doing the DMA t...   \n",
            "4   4  1)    I have an old Jasmine drive which I cann...   \n",
            "5   5  \\n\\nBack in high school I worked as a lab assi...   \n",
            "6   6  \\n\\nAE is in Dallas...try 214/241-6060 or 214/...   \n",
            "7   7  \\n[stuff deleted]\\n\\nOk, here's the solution t...   \n",
            "8   8  \\n\\n\\nYeah, it's the second one.  And I believ...   \n",
            "9   9  \\nIf a Christian means someone who believes in...   \n",
            "\n",
            "                                       doc-embedding  \n",
            "0  [0.0020779776, 0.02345035, 0.024808845, -0.010...  \n",
            "1  [0.0500603, 0.026980925, -0.008864761, -0.0359...  \n",
            "2  [0.016404761, 0.08100052, -0.049535934, -0.008...  \n",
            "3  [-0.019391418, 0.011494355, -0.014787201, -0.0...  \n",
            "4  [-0.039287027, -0.055402838, -0.074536085, -0....  \n",
            "5  [0.02106589, -0.04139158, 0.0050711865, -0.034...  \n",
            "6  [-0.0415625, -0.038990255, 0.038600557, -0.010...  \n",
            "7  [0.03844786, -0.060303915, 0.033409126, -0.056...  \n",
            "8  [-0.04779018, 0.07857065, -0.018352639, -0.043...  \n",
            "9  [-0.06860906, 0.018217146, -0.06611752, 0.0294...  \n"
          ]
        }
      ],
      "source": [
        "import numpy as np\n",
        "import pandas as pd\n",
        "# Generar una estructura de datos con id, newsgroupsdocs, doc_embedding\n",
        "data = []\n",
        "for idx, (doc, embedding) in enumerate(zip(newsgroupsdocs, embeddings)):\n",
        "    data.append((idx, doc, embedding))\n",
        "# Convertir a DataFrame para visualización clara\n",
        "df = pd.DataFrame(data, columns=['id', 'doc', 'doc-embedding'])\n",
        "print(df.head(10))"
      ]
    },
    {
      "cell_type": "code",
      "execution_count": 26,
      "id": "Cfq5YwEzRqi6",
      "metadata": {
        "id": "Cfq5YwEzRqi6"
      },
      "outputs": [],
      "source": [
        "# Guardar los embeddings en un array para luego ser indexados\n",
        "doc_embeddings = np.array(embeddings)"
      ]
    },
    {
      "cell_type": "markdown",
      "id": "e53b50365064d2b1",
      "metadata": {
        "id": "e53b50365064d2b1"
      },
      "source": [
        "## Parte 3: Indexación con FAISS\n",
        "### Actividad\n",
        "\n",
        "1. Crea un índice plano con faiss.IndexFlatL2 para búsquedas por distancia euclidiana.\n",
        "2. Asegúrate de usar la dimensión correcta `(embedding_dim = doc_embeddings.shape[1])`.\n",
        "3. Agrega los vectores de documentos al índice."
      ]
    },
    {
      "cell_type": "code",
      "execution_count": 27,
      "id": "xssFjbmRVgJ6",
      "metadata": {
        "colab": {
          "base_uri": "https://localhost:8080/"
        },
        "id": "xssFjbmRVgJ6",
        "outputId": "5010bf58-9484-463e-c3a8-2620eff80230"
      },
      "outputs": [
        {
          "name": "stdout",
          "output_type": "stream",
          "text": [
            "Requirement already satisfied: faiss-cpu in c:\\users\\wil_s\\documentos\\github\\2025a\\ir25a\\.venv\\lib\\site-packages (1.11.0)\n",
            "Requirement already satisfied: numpy<3.0,>=1.25.0 in c:\\users\\wil_s\\documentos\\github\\2025a\\ir25a\\.venv\\lib\\site-packages (from faiss-cpu) (2.2.5)\n",
            "Requirement already satisfied: packaging in c:\\users\\wil_s\\documentos\\github\\2025a\\ir25a\\.venv\\lib\\site-packages (from faiss-cpu) (25.0)\n",
            "Note: you may need to restart the kernel to use updated packages.\n"
          ]
        }
      ],
      "source": [
        "%pip install faiss-cpu"
      ]
    },
    {
      "cell_type": "code",
      "execution_count": 28,
      "id": "96c723e6189ab1fd",
      "metadata": {
        "id": "96c723e6189ab1fd"
      },
      "outputs": [],
      "source": [
        "import faiss\n",
        "# Vectores de documentos.\n",
        "embedding_dim = doc_embeddings.shape[1]\n",
        "# Índice de  para búsquedas por distancia euclidiana\n",
        "index = faiss.IndexFlatL2(embedding_dim)\n",
        "# Añadir los embeddings al índice\n",
        "index.add(doc_embeddings)"
      ]
    },
    {
      "cell_type": "markdown",
      "id": "40462a067ca2d379",
      "metadata": {
        "id": "40462a067ca2d379"
      },
      "source": [
        "## Parte 4: Consulta Semántica\n",
        "### Actividad\n",
        "\n",
        "1. Escribe una consulta en lenguaje natural. Ejemplos:\n",
        "\n",
        "    * \"God, religion, and spirituality\"\n",
        "    * \"space exploration\"\n",
        "    * \"car maintenance\"\n",
        "\n",
        "2. Codifica la consulta utilizando el mismo modelo de embeddings. Cuando uses E5, antepon `\"query: \"` a la consulta.\n",
        "3. Recupera los 5 documentos más relevantes con `index.search(...)`.\n",
        "4. Muestra los textos de los documentos recuperados (puedes mostrar solo los primeros 500 caracteres de cada uno)."
      ]
    },
    {
      "cell_type": "code",
      "execution_count": 29,
      "id": "aad085806124c709",
      "metadata": {
        "id": "aad085806124c709"
      },
      "outputs": [],
      "source": [
        "query = \"space exploration\"\n",
        "# Codifica la consulta utilizando el mismo modelo de embeddings.\n",
        "query_embedding = model.encode([query])"
      ]
    },
    {
      "cell_type": "code",
      "execution_count": 31,
      "id": "NAt8aFdAWimB",
      "metadata": {
        "id": "NAt8aFdAWimB"
      },
      "outputs": [],
      "source": [
        "# Recuperación de los 5 documentos más relevantes.\n",
        "k = 5\n",
        "distances, indices = index.search(query_embedding, k)"
      ]
    },
    {
      "cell_type": "code",
      "execution_count": 32,
      "id": "zExLydepWrFZ",
      "metadata": {
        "colab": {
          "base_uri": "https://localhost:8080/"
        },
        "id": "zExLydepWrFZ",
        "outputId": "0f293120-cd8d-4b3e-b0bb-f5a539b4404a"
      },
      "outputs": [
        {
          "name": "stdout",
          "output_type": "stream",
          "text": [
            "Documento 495 (distancia: 1.0018):\n",
            "I am posting this for a friend without internet access. Please inquire\n",
            "to the phone number and address listed.\n",
            "---------------------------------------------------------------------\n",
            "\n",
            "\"Space: Teaching's Newest Frontier\"\n",
            "Sponsored by the Planetary Studies Foundation\n",
            "\n",
            "The Planetary Studies Foundation is sponsoring a one week class for\n",
            "teachers called \"Space: Teaching's Newest Frontier.\" The class will be\n",
            "held at the Sheraton Suites in Elk Grove, Illinois from June 14 through\n",
            "June 18. Participants wh\n",
            "\n",
            "================================================================================\n",
            "\n",
            "Documento 1643 (distancia: 1.1204):\n",
            "\n",
            "Well, here goes.\n",
            "\n",
            "The first item of business is to establish the importance space life\n",
            "sciences in the whole of scheme of humankind.  I mean compared\n",
            "to football and baseball, the average joe schmoe doesn't seem interested\n",
            "or even curious about spaceflight.  I think that this forum can\n",
            "make a major change in that lack of insight and education.\n",
            "\n",
            "All of us, in our own way, can contribute to a comprehensive document\n",
            "which can be released to the general public around the world.  The\n",
            "document would \n",
            "\n",
            "================================================================================\n",
            "\n",
            "Documento 786 (distancia: 1.1357):\n",
            "Ron Miller is a space artist with a long and distinguished career.  \n",
            "I've admired both his paintings (remember the USPS Solar System\n",
            "Exploration Stamps last year?) and his writings on the history of\n",
            "spaceflight.  For several years he's been working on a *big* project\n",
            "which is almost ready to hit the streets.  A brochure from his\n",
            "publisher has landed in my mailbox, and I thought it was cool enough\n",
            "to type in part of it (it's rather long).  Especially given the Net's\n",
            "strong interest in vaporware s\n",
            "\n",
            "================================================================================\n",
            "\n",
            "Documento 1199 (distancia: 1.2009):\n",
            "Any comments on the absorbtion of the Office of Exploration into the\n",
            "Office of Space Sciences and the reassignment of Griffin to the \"Chief\n",
            "Engineer\" position?  Is this just a meaningless administrative\n",
            "shuffle, or does this bode ill for SEI?\n",
            "\n",
            "In my opinion, this seems like a Bad Thing, at least on the surface.\n",
            "Griffin seemed to be someone who was actually interested in getting\n",
            "things done, and who was willing to look an innovative approaches to\n",
            "getting things done faster, better, and cheaper.  \n",
            "\n",
            "================================================================================\n",
            "\n",
            "Documento 25 (distancia: 1.2509):\n",
            "AW&ST  had a brief blurb on a Manned Lunar Exploration confernce\n",
            "May 7th  at Crystal City Virginia, under the auspices of AIAA.\n",
            "\n",
            "Does anyone know more about this?  How much, to attend????\n",
            "\n",
            "Anyone want to go?\n",
            "\n",
            "================================================================================\n",
            "\n"
          ]
        }
      ],
      "source": [
        "# Muestra los textos de los documentos recuperados, mostrando los primeros 500 caracteres de cada uno\n",
        "for i in range(k):\n",
        "    doc_id = indices[0][i]\n",
        "    print(f\"Documento {doc_id} (distancia: {distances[0][i]:.4f}):\")\n",
        "    print(newsgroupsdocs[doc_id][:500])  # Muestra los primeros 500 caracteres del documento\n",
        "    print(\"\\n\" + \"=\"*80 + \"\\n\")  # Separador entre documentos"
      ]
    },
    {
      "cell_type": "markdown",
      "id": "2dc9e5e7815c7508",
      "metadata": {
        "id": "2dc9e5e7815c7508"
      },
      "source": []
    }
  ],
  "metadata": {
    "colab": {
      "provenance": []
    },
    "kernelspec": {
      "display_name": ".venv",
      "language": "python",
      "name": "python3"
    },
    "language_info": {
      "codemirror_mode": {
        "name": "ipython",
        "version": 3
      },
      "file_extension": ".py",
      "mimetype": "text/x-python",
      "name": "python",
      "nbconvert_exporter": "python",
      "pygments_lexer": "ipython3",
      "version": "3.12.4"
    },
    "widgets": {
      "application/vnd.jupyter.widget-state+json": {
        "23d6ebbe0eac478db3252beb50519215": {
          "model_module": "@jupyter-widgets/controls",
          "model_module_version": "1.5.0",
          "model_name": "FloatProgressModel",
          "state": {
            "_dom_classes": [],
            "_model_module": "@jupyter-widgets/controls",
            "_model_module_version": "1.5.0",
            "_model_name": "FloatProgressModel",
            "_view_count": null,
            "_view_module": "@jupyter-widgets/controls",
            "_view_module_version": "1.5.0",
            "_view_name": "ProgressView",
            "bar_style": "success",
            "description": "",
            "description_tooltip": null,
            "layout": "IPY_MODEL_6b09366ad693493185e575960007ac34",
            "max": 63,
            "min": 0,
            "orientation": "horizontal",
            "style": "IPY_MODEL_d08ccb843b7a4e94a9feeab439110a14",
            "value": 63
          }
        },
        "5b52b72101704b9caa8ac2191f1e0c36": {
          "model_module": "@jupyter-widgets/controls",
          "model_module_version": "1.5.0",
          "model_name": "HBoxModel",
          "state": {
            "_dom_classes": [],
            "_model_module": "@jupyter-widgets/controls",
            "_model_module_version": "1.5.0",
            "_model_name": "HBoxModel",
            "_view_count": null,
            "_view_module": "@jupyter-widgets/controls",
            "_view_module_version": "1.5.0",
            "_view_name": "HBoxView",
            "box_style": "",
            "children": [
              "IPY_MODEL_eb4bfe4ebe00473d890cb3f1e2eefb1a",
              "IPY_MODEL_23d6ebbe0eac478db3252beb50519215",
              "IPY_MODEL_e885cf2969a740eba4356bfe0b0546f8"
            ],
            "layout": "IPY_MODEL_d6c487dc054b4dcc9c2a488d9d2cef89"
          }
        },
        "65e4625be4e14d29ba977ae5472cb7ea": {
          "model_module": "@jupyter-widgets/base",
          "model_module_version": "1.2.0",
          "model_name": "LayoutModel",
          "state": {
            "_model_module": "@jupyter-widgets/base",
            "_model_module_version": "1.2.0",
            "_model_name": "LayoutModel",
            "_view_count": null,
            "_view_module": "@jupyter-widgets/base",
            "_view_module_version": "1.2.0",
            "_view_name": "LayoutView",
            "align_content": null,
            "align_items": null,
            "align_self": null,
            "border": null,
            "bottom": null,
            "display": null,
            "flex": null,
            "flex_flow": null,
            "grid_area": null,
            "grid_auto_columns": null,
            "grid_auto_flow": null,
            "grid_auto_rows": null,
            "grid_column": null,
            "grid_gap": null,
            "grid_row": null,
            "grid_template_areas": null,
            "grid_template_columns": null,
            "grid_template_rows": null,
            "height": null,
            "justify_content": null,
            "justify_items": null,
            "left": null,
            "margin": null,
            "max_height": null,
            "max_width": null,
            "min_height": null,
            "min_width": null,
            "object_fit": null,
            "object_position": null,
            "order": null,
            "overflow": null,
            "overflow_x": null,
            "overflow_y": null,
            "padding": null,
            "right": null,
            "top": null,
            "visibility": null,
            "width": null
          }
        },
        "6b09366ad693493185e575960007ac34": {
          "model_module": "@jupyter-widgets/base",
          "model_module_version": "1.2.0",
          "model_name": "LayoutModel",
          "state": {
            "_model_module": "@jupyter-widgets/base",
            "_model_module_version": "1.2.0",
            "_model_name": "LayoutModel",
            "_view_count": null,
            "_view_module": "@jupyter-widgets/base",
            "_view_module_version": "1.2.0",
            "_view_name": "LayoutView",
            "align_content": null,
            "align_items": null,
            "align_self": null,
            "border": null,
            "bottom": null,
            "display": null,
            "flex": null,
            "flex_flow": null,
            "grid_area": null,
            "grid_auto_columns": null,
            "grid_auto_flow": null,
            "grid_auto_rows": null,
            "grid_column": null,
            "grid_gap": null,
            "grid_row": null,
            "grid_template_areas": null,
            "grid_template_columns": null,
            "grid_template_rows": null,
            "height": null,
            "justify_content": null,
            "justify_items": null,
            "left": null,
            "margin": null,
            "max_height": null,
            "max_width": null,
            "min_height": null,
            "min_width": null,
            "object_fit": null,
            "object_position": null,
            "order": null,
            "overflow": null,
            "overflow_x": null,
            "overflow_y": null,
            "padding": null,
            "right": null,
            "top": null,
            "visibility": null,
            "width": null
          }
        },
        "8ae703efc0664300a4e679e59ace0db4": {
          "model_module": "@jupyter-widgets/controls",
          "model_module_version": "1.5.0",
          "model_name": "DescriptionStyleModel",
          "state": {
            "_model_module": "@jupyter-widgets/controls",
            "_model_module_version": "1.5.0",
            "_model_name": "DescriptionStyleModel",
            "_view_count": null,
            "_view_module": "@jupyter-widgets/base",
            "_view_module_version": "1.2.0",
            "_view_name": "StyleView",
            "description_width": ""
          }
        },
        "d08ccb843b7a4e94a9feeab439110a14": {
          "model_module": "@jupyter-widgets/controls",
          "model_module_version": "1.5.0",
          "model_name": "ProgressStyleModel",
          "state": {
            "_model_module": "@jupyter-widgets/controls",
            "_model_module_version": "1.5.0",
            "_model_name": "ProgressStyleModel",
            "_view_count": null,
            "_view_module": "@jupyter-widgets/base",
            "_view_module_version": "1.2.0",
            "_view_name": "StyleView",
            "bar_color": null,
            "description_width": ""
          }
        },
        "d3868a7687be43f6a328a258475c5383": {
          "model_module": "@jupyter-widgets/base",
          "model_module_version": "1.2.0",
          "model_name": "LayoutModel",
          "state": {
            "_model_module": "@jupyter-widgets/base",
            "_model_module_version": "1.2.0",
            "_model_name": "LayoutModel",
            "_view_count": null,
            "_view_module": "@jupyter-widgets/base",
            "_view_module_version": "1.2.0",
            "_view_name": "LayoutView",
            "align_content": null,
            "align_items": null,
            "align_self": null,
            "border": null,
            "bottom": null,
            "display": null,
            "flex": null,
            "flex_flow": null,
            "grid_area": null,
            "grid_auto_columns": null,
            "grid_auto_flow": null,
            "grid_auto_rows": null,
            "grid_column": null,
            "grid_gap": null,
            "grid_row": null,
            "grid_template_areas": null,
            "grid_template_columns": null,
            "grid_template_rows": null,
            "height": null,
            "justify_content": null,
            "justify_items": null,
            "left": null,
            "margin": null,
            "max_height": null,
            "max_width": null,
            "min_height": null,
            "min_width": null,
            "object_fit": null,
            "object_position": null,
            "order": null,
            "overflow": null,
            "overflow_x": null,
            "overflow_y": null,
            "padding": null,
            "right": null,
            "top": null,
            "visibility": null,
            "width": null
          }
        },
        "d6c487dc054b4dcc9c2a488d9d2cef89": {
          "model_module": "@jupyter-widgets/base",
          "model_module_version": "1.2.0",
          "model_name": "LayoutModel",
          "state": {
            "_model_module": "@jupyter-widgets/base",
            "_model_module_version": "1.2.0",
            "_model_name": "LayoutModel",
            "_view_count": null,
            "_view_module": "@jupyter-widgets/base",
            "_view_module_version": "1.2.0",
            "_view_name": "LayoutView",
            "align_content": null,
            "align_items": null,
            "align_self": null,
            "border": null,
            "bottom": null,
            "display": null,
            "flex": null,
            "flex_flow": null,
            "grid_area": null,
            "grid_auto_columns": null,
            "grid_auto_flow": null,
            "grid_auto_rows": null,
            "grid_column": null,
            "grid_gap": null,
            "grid_row": null,
            "grid_template_areas": null,
            "grid_template_columns": null,
            "grid_template_rows": null,
            "height": null,
            "justify_content": null,
            "justify_items": null,
            "left": null,
            "margin": null,
            "max_height": null,
            "max_width": null,
            "min_height": null,
            "min_width": null,
            "object_fit": null,
            "object_position": null,
            "order": null,
            "overflow": null,
            "overflow_x": null,
            "overflow_y": null,
            "padding": null,
            "right": null,
            "top": null,
            "visibility": null,
            "width": null
          }
        },
        "de32cc51b64c40eba6a59c5b0435d165": {
          "model_module": "@jupyter-widgets/controls",
          "model_module_version": "1.5.0",
          "model_name": "DescriptionStyleModel",
          "state": {
            "_model_module": "@jupyter-widgets/controls",
            "_model_module_version": "1.5.0",
            "_model_name": "DescriptionStyleModel",
            "_view_count": null,
            "_view_module": "@jupyter-widgets/base",
            "_view_module_version": "1.2.0",
            "_view_name": "StyleView",
            "description_width": ""
          }
        },
        "e885cf2969a740eba4356bfe0b0546f8": {
          "model_module": "@jupyter-widgets/controls",
          "model_module_version": "1.5.0",
          "model_name": "HTMLModel",
          "state": {
            "_dom_classes": [],
            "_model_module": "@jupyter-widgets/controls",
            "_model_module_version": "1.5.0",
            "_model_name": "HTMLModel",
            "_view_count": null,
            "_view_module": "@jupyter-widgets/controls",
            "_view_module_version": "1.5.0",
            "_view_name": "HTMLView",
            "description": "",
            "description_tooltip": null,
            "layout": "IPY_MODEL_d3868a7687be43f6a328a258475c5383",
            "placeholder": "​",
            "style": "IPY_MODEL_8ae703efc0664300a4e679e59ace0db4",
            "value": " 63/63 [02:01&lt;00:00,  2.58it/s]"
          }
        },
        "eb4bfe4ebe00473d890cb3f1e2eefb1a": {
          "model_module": "@jupyter-widgets/controls",
          "model_module_version": "1.5.0",
          "model_name": "HTMLModel",
          "state": {
            "_dom_classes": [],
            "_model_module": "@jupyter-widgets/controls",
            "_model_module_version": "1.5.0",
            "_model_name": "HTMLModel",
            "_view_count": null,
            "_view_module": "@jupyter-widgets/controls",
            "_view_module_version": "1.5.0",
            "_view_name": "HTMLView",
            "description": "",
            "description_tooltip": null,
            "layout": "IPY_MODEL_65e4625be4e14d29ba977ae5472cb7ea",
            "placeholder": "​",
            "style": "IPY_MODEL_de32cc51b64c40eba6a59c5b0435d165",
            "value": "Batches: 100%"
          }
        }
      }
    }
  },
  "nbformat": 4,
  "nbformat_minor": 5
}
