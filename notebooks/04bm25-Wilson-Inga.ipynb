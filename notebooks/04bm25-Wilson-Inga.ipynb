{
  "cells": [
    {
      "cell_type": "markdown",
      "id": "941741204a003f44",
      "metadata": {
        "id": "941741204a003f44"
      },
      "source": [
        "# Ejercicio 4: Modelo Probabilístico\n",
        "\n",
        "## Objetivo de la práctica\n",
        "- Comprender los componentes del modelo vectorial mediante cálculos manuales y observación directa.\n",
        "- Aplicar el modelo de espacio vectorial con TF-IDF para recuperar documentos relevantes.\n",
        "- Comparar la recuperación con BM25 frente a TF-IDF.\n",
        "- Analizar visualmente las diferencias entre los modelos.\n",
        "- Evaluar si los rankings generados son consistentes con lo que considerarías documentos relevantes."
      ]
    },
    {
      "cell_type": "markdown",
      "id": "93bafe7a6a4ef9e5",
      "metadata": {
        "id": "93bafe7a6a4ef9e5"
      },
      "source": [
        "## Parte 0: Carga del Corpus"
      ]
    },
    {
      "cell_type": "code",
      "execution_count": 44,
      "id": "ad08bb8bd43ae327",
      "metadata": {
        "id": "ad08bb8bd43ae327"
      },
      "outputs": [],
      "source": [
        "from sklearn.datasets import fetch_20newsgroups\n",
        "\n",
        "newsgroups = fetch_20newsgroups(subset='all', remove=('headers', 'footers', 'quotes'))\n",
        "corpus = newsgroups.data\n",
        "target = newsgroups.target\n",
        "target_names = newsgroups.target_names"
      ]
    },
    {
      "cell_type": "markdown",
      "id": "10f8c7f78934f497",
      "metadata": {
        "id": "10f8c7f78934f497"
      },
      "source": [
        "## Parte 1: Cálculo de TF, DF, IDF y TF-IDF\n",
        "\n",
        "### Actividad\n",
        "1. Utiliza el corpus cargado.\n",
        "2. Construye la matriz de términos (TF), y calcula la frecuencia de documentos (DF)\n",
        "3. Calcula TF-IDF utilizando sklearn.\n",
        "4. Visualiza los valores en un DataFrame para analizar las diferencias entre los términos."
      ]
    },
    {
      "cell_type": "code",
      "execution_count": 45,
      "id": "d2ebd9f1c1b6c787",
      "metadata": {
        "id": "d2ebd9f1c1b6c787"
      },
      "outputs": [],
      "source": [
        "from sklearn.feature_extraction.text import CountVectorizer, TfidfVectorizer\n",
        "import pandas as pd"
      ]
    },
    {
      "cell_type": "code",
      "execution_count": 46,
      "id": "x_NZ56bW1HBQ",
      "metadata": {
        "colab": {
          "base_uri": "https://localhost:8080/"
        },
        "id": "x_NZ56bW1HBQ",
        "outputId": "a422a267-4e6d-4811-8174-3c793d1bc6cd"
      },
      "outputs": [
        {
          "name": "stdout",
          "output_type": "stream",
          "text": [
            "   00  000  0000  00000  000000  00000000  0000000004  00000000b  00000001  \\\n",
            "0   0    0     0      0       0         0           0          0         0   \n",
            "1   0    0     0      0       0         0           0          0         0   \n",
            "2   0    0     0      0       0         0           0          0         0   \n",
            "3   0    0     0      0       0         0           0          0         0   \n",
            "4   0    0     0      0       0         0           0          0         0   \n",
            "\n",
            "   00000001b  ...  zzvsi  zzy_3w  zzz  zzzoh  zzzzzz  zzzzzzt  ³ation  ýé  \\\n",
            "0          0  ...      0       0    0      0       0        0       0   0   \n",
            "1          0  ...      0       0    0      0       0        0       0   0   \n",
            "2          0  ...      0       0    0      0       0        0       0   0   \n",
            "3          0  ...      0       0    0      0       0        0       0   0   \n",
            "4          0  ...      0       0    0      0       0        0       0   0   \n",
            "\n",
            "   ÿhooked              target_names  \n",
            "0        0          rec.sport.hockey  \n",
            "1        0  comp.sys.ibm.pc.hardware  \n",
            "2        0     talk.politics.mideast  \n",
            "3        0  comp.sys.ibm.pc.hardware  \n",
            "4        0     comp.sys.mac.hardware  \n",
            "\n",
            "[5 rows x 134411 columns]\n"
          ]
        }
      ],
      "source": [
        "# Construcción de la matriz de términos (TF)\n",
        "vectorizer = CountVectorizer()\n",
        "X = vectorizer.fit_transform(corpus)\n",
        "# Calcular la frecuencia de documentos (DF)\n",
        "df = (X > 0).sum(axis=0).A1\n",
        "# Calcular TF-IDF con sklearn\n",
        "tfidf_vectorizer = TfidfVectorizer()\n",
        "X_tfidf = tfidf_vectorizer.fit_transform(corpus)\n",
        "# Crear un DataFrame con los términos y sus frecuencias\n",
        "tfidf = pd.DataFrame.sparse.from_spmatrix(\n",
        "    X_tfidf,\n",
        "    columns=tfidf_vectorizer.get_feature_names_out()\n",
        ")\n",
        "# Añadir la columna de etiquetas\n",
        "tfidf['target'] = target\n",
        "# Añadir la columna de nombres de categorías\n",
        "tfidf['target_names'] = [target_names[i] for i in target]\n",
        "\n",
        "print(tfidf.head())"
      ]
    },
    {
      "cell_type": "markdown",
      "id": "64491bce5361e8b3",
      "metadata": {
        "id": "64491bce5361e8b3"
      },
      "source": [
        "## Parte 2: Ranking de documentos usando TF-IDF\n",
        "\n",
        "### Actividad\n",
        "\n",
        "1. Dada una consulta, construye el vector de consulta\n",
        "2. Calcula la similitud coseno entre la consulta y cada documento usando los vectores TF-IDF\n",
        "3. Genera un ranking de los documentos ordenados por relevancia.\n",
        "4. Muestra los resultados en una tabla."
      ]
    },
    {
      "cell_type": "markdown",
      "id": "va6BEzxN7lPE",
      "metadata": {
        "id": "va6BEzxN7lPE"
      },
      "source": [
        "## Crear el vector consulta"
      ]
    },
    {
      "cell_type": "code",
      "execution_count": 47,
      "id": "lzHrmVuj7pN9",
      "metadata": {
        "id": "lzHrmVuj7pN9"
      },
      "outputs": [],
      "source": [
        "query = \"jersey\""
      ]
    },
    {
      "cell_type": "code",
      "execution_count": 48,
      "id": "rjv_3E407vLb",
      "metadata": {
        "colab": {
          "base_uri": "https://localhost:8080/"
        },
        "id": "rjv_3E407vLb",
        "outputId": "e012573c-7582-4e08-f0bb-e65f619683db"
      },
      "outputs": [
        {
          "name": "stdout",
          "output_type": "stream",
          "text": [
            "<Compressed Sparse Row sparse matrix of dtype 'float64'\n",
            "\twith 1 stored elements and shape (1, 134410)>\n",
            "  Coords\tValues\n",
            "  (0, 68989)\t1.0\n"
          ]
        }
      ],
      "source": [
        "query_vect = tfidf_vectorizer.transform([query])\n",
        "print(query_vect)"
      ]
    },
    {
      "cell_type": "markdown",
      "id": "fHCnc0oW76b9",
      "metadata": {
        "id": "fHCnc0oW76b9"
      },
      "source": [
        "### Calcular la similitud coseno"
      ]
    },
    {
      "cell_type": "code",
      "execution_count": 49,
      "id": "I3izZxqt7-wW",
      "metadata": {
        "colab": {
          "base_uri": "https://localhost:8080/"
        },
        "id": "I3izZxqt7-wW",
        "outputId": "d09eea60-72b1-458c-dfbf-da27d6648178"
      },
      "outputs": [
        {
          "name": "stdout",
          "output_type": "stream",
          "text": [
            "[0.05292561 0.         0.         ... 0.         0.         0.        ]\n"
          ]
        }
      ],
      "source": [
        "from sklearn.metrics.pairwise import cosine_similarity\n",
        " # dist arreglo de similitudes de la consulta y cada documento entre [0-1]\n",
        "dist = cosine_similarity(query_vect, X).flatten()\n",
        "print(dist)"
      ]
    },
    {
      "cell_type": "markdown",
      "id": "vL0tn_t28xI0",
      "metadata": {
        "id": "vL0tn_t28xI0"
      },
      "source": [
        "### Generar el ranking y mostrar tabla"
      ]
    },
    {
      "cell_type": "code",
      "execution_count": 50,
      "id": "8C6MdN2K8vtj",
      "metadata": {
        "colab": {
          "base_uri": "https://localhost:8080/"
        },
        "id": "8C6MdN2K8vtj",
        "outputId": "62f01f7b-38e7-47e8-aeab-078e7eb8b546"
      },
      "outputs": [
        {
          "name": "stdout",
          "output_type": "stream",
          "text": [
            "    Ranking                                     Documento  Similitud coseno\n",
            "0         1         $200 in Glassboro, New Jersey  :( ...          0.447214\n",
            "1         2  \\tDon't forget Paul Ysebaert, ex-Devil.  ...          0.218218\n",
            "2         3   Boston                           2 2 0--...          0.209083\n",
            "3         4   cd's for sale:  1. jon bon jovi - new je...          0.176777\n",
            "4         5   Does anyone here know where I can find a...          0.174078\n",
            "5         6   HELP!  I'm stuck here at a computer in N...          0.171499\n",
            "6         7   Philadelphia                     1 1 2 1...          0.167705\n",
            "7         8   s:   I have a 1991 Toyota Camry Deluxe f...          0.145865\n",
            "8         9    I had heard(perhaps incorrectly) that w...          0.142857\n",
            "9        10    Not to mention the thread about selling...          0.138675\n",
            "10       11   Thanks to all who replied to my initial ...          0.124035\n",
            "11       12   \\tI just went through this mess in New J...          0.123091\n",
            "12       13     Here are the ones I can remember offha...          0.119523\n",
            "13       14   Thanks for the 41 people who have entere...          0.118888\n",
            "14       15   Okay, here's the entry sheet.  Keep in m...          0.106600\n",
            "15       16     I'm totally p*-o'd, too!  Vancouver-Wi...          0.103695\n",
            "16       17   New Jersey                       1 0 2--...          0.101871\n",
            "17       18   Everyone... Read this.  If you have alre...          0.099015\n",
            "18       19    IMHO...  Clement, although he has a ple...          0.086711\n",
            "19       20      I have one complaint for the camerame...          0.085436\n",
            "20       21   I am looking for recommendations for a g...          0.080582\n",
            "21       22     The last name is Niedermayer, as in Ne...          0.080064\n",
            "22       23   -| I am taking a course entitled \"Explor...          0.076923\n",
            "23       24   NY Rangers                       3 1 0--...          0.075165\n",
            "24       25   : >And, while we are on the subject, has...          0.074953\n",
            "25       26     : I have one complaint for the cameram...          0.073127\n",
            "26       27     What is so honorable about placing bom...          0.071067\n",
            "27       28   Well, thanks to everyone who has entered...          0.067267\n",
            "28       29     While we're on the multipurpose subjec...          0.063888\n",
            "29       30   I am posting this for a friend.  Please ...          0.061314\n",
            "30       31   Okay... here's some gripe\"ing\" (?griping...          0.060385\n",
            "31       32   NY Islanders                     1 1 2 0...          0.055836\n",
            "32       33    I think that Mike Foligno was the capta...          0.054882\n",
            "33       34     I am sure some bashers of Pens fans ar...          0.052926\n",
            "34       35   NHL PLAYOFF RESULTS FOR 4/22/93.  ------...          0.052559\n",
            "35       36  : >          \"hose\"  h-o-s-e  : \\tDork.  ...          0.051778\n",
            "36       37    Chris Chelios was Montreal's co-captain...          0.051434\n",
            "37       38   Available for Weekly/bi-weekly/weekend R...          0.051031\n",
            "38       39   NHL PLAYOFF RESULTS FOR 4/20/93.  ------...          0.048593\n",
            "39       40    : That's not inner calm.  It's boredom,...          0.046524\n",
            "40       41   RA>    Here's the point: there are far t...          0.044721\n",
            "41       42     yet.  I'm not bored either.  Most peop...          0.044544\n",
            "42       43    Ah! Excellent. So why doesn't she appea...          0.040757\n",
            "43       44   NHL RESULTS FOR GAMES PLAYED 4/14/93.  -...          0.039723\n",
            "44       45   I was thinking about who on each of the ...          0.037796\n",
            "45       46   Everybody.  Please send me your predicti...          0.037294\n",
            "46       47  \\tUsually one or two teams changes their ...          0.037190\n",
            "47       48   Well put, Jason.  I am not from Wisconsi...          0.035669\n",
            "48       49   Jesus Christ!!!  The score is now 6-0. T...          0.029907\n",
            "49       50   -=> Quoting Cire Y. Trehguad to All <=- ...          0.027746\n"
          ]
        }
      ],
      "source": [
        "top_k = 50\n",
        "\n",
        "# Ranking de indices debe ser una lista de enteros\n",
        "ranking_indices = dist.argsort()[::-1] # argsort devuelve índices de menor a mayor y con [::1] invertimos ese orden\n",
        "\n",
        "# Construcción del DataFrame\n",
        "resultados = pd.DataFrame({\n",
        "    'Ranking': range(1, top_k + 1),\n",
        "    'Documento': [corpus[i][:40].replace('\\n', ' ') + '...' for i in ranking_indices[:top_k]],\n",
        "    'Similitud coseno': [dist[i] for i in ranking_indices[:top_k]],\n",
        "    #'Categoría': [target_names[target[i]] for i in ranking_indices[:top_k]] #\n",
        "})\n",
        "\n",
        "print(resultados)"
      ]
    },
    {
      "cell_type": "markdown",
      "id": "97061325508dc5f2",
      "metadata": {
        "id": "97061325508dc5f2"
      },
      "source": [
        "## Parte 3: Ranking con BM25\n",
        "\n",
        "### Actividad\n",
        "\n",
        "1. Implementa un sistema de recuperación usando el modelo BM25.\n",
        "2. Usa la misma consulta del ejercicio anterior.\n",
        "3. Calcula el score BM25 para cada documento y genera un ranking.\n",
        "4. Compara manualmente con el ranking de TF-IDF."
      ]
    },
    {
      "cell_type": "markdown",
      "id": "7bb03f7d",
      "metadata": {},
      "source": [
        "### Libreria BM25"
      ]
    },
    {
      "cell_type": "code",
      "execution_count": 51,
      "id": "9aafa361",
      "metadata": {},
      "outputs": [
        {
          "name": "stdout",
          "output_type": "stream",
          "text": [
            "    Ranking BM25                                      Documento  Score BM25\n",
            "0              1    cd's for sale:  1. jon bon jovi - new je...   13.464986\n",
            "1              2     I think that Mike Foligno was the capta...   10.686512\n",
            "2              3    RA>    Here's the point: there are far t...    8.034023\n",
            "3              4    The FLYERS closed out the season last ni...    2.162020\n",
            "4              5     Probably keep quiet and take it, lest t...    0.000000\n",
            "5              6    I have an Alesis HR-16 drum machine for ...    0.000000\n",
            "6              7     I am asking you to believe in things no...    0.000000\n",
            "7              8    Hello,      I am having a small problem ...    0.000000\n",
            "8              9                                    Anaheim....    0.000000\n",
            "9             10    I never thought I'd contribute to a Gate...    0.000000\n",
            "10            11         Well, I'm a Wings fan and I think t...    0.000000\n",
            "11            12    On 21 Apr 93 00:07:20 GMT, Theodore A. K...    0.000000\n",
            "12            13            Apple has really confused people...    0.000000\n",
            "13            14       \\tI think the Manta is the European n...    0.000000\n",
            "14            15     You have to do the same sorts of things...    0.000000\n",
            "15            16    I have the local bus card also, and don'...    0.000000\n",
            "16            17      The lengthy article you quote doesn't ...    0.000000\n",
            "17            18    {rest deleted}  Can the Father possibly ...    0.000000\n",
            "18            19    A new alternative to Scouting for those ...    0.000000\n",
            "19            20     You'd have to purify the river water fi...    0.000000\n",
            "20            21       I'm sure there are many people who wo...    0.000000\n",
            "21            22     Whatever happened to uwm? Is it still a...    0.000000\n",
            "22            23    How about:  \\tThe Holocaust \\tThe Spanis...    0.000000\n",
            "23            24      Oh, Bobby. You're priceless. Did I eve...    0.000000\n",
            "24            25    Well, renaming screensavers (.scr) to .e...    0.000000\n",
            "25            26    I don't know the exact coverage in the s...    0.000000\n",
            "26            27    Has anybody generated an X server for Wi...    0.000000\n",
            "27            28    Can someone send me ticket ordering info...    0.000000\n",
            "28            29      I am sure some bashers of Pens fans ar...    0.000000\n",
            "29            30    After a tip from Gary Crum (crum@fcom.cc...    0.000000\n",
            "30            31     Wouldn't this require a hyper-sphere.  ...    0.000000\n",
            "31            32    Here now some initial references; best r...    0.000000\n",
            "32            33    I am currently using POVRay on Mac and w...    0.000000\n",
            "33            34    completed  Why would you dispose a chann...    0.000000\n",
            "34            35       I don't buy this at all.  I think thi...    0.000000\n",
            "35            36     A word of warning, though:  Kryptonite ...    0.000000\n",
            "36            37     Definitely, J.R. \"Bob\" Dobbs, numero un...    0.000000\n",
            "37            38       How about some numbers here? Some kin...    0.000000\n",
            "38            39     [bible verses ag./ used ag. homosexuali...    0.000000\n",
            "39            40        My rule of thumb is \"Don't give ride...    0.000000\n",
            "40            41    Don't worry about this -- they'll drop y...    0.000000\n",
            "41            42    Just curious, how would the Clipper Chip...    0.000000\n",
            "42            43         Anything but...      Bill Clinton a...    0.000000\n",
            "43            44     Any reason you are limited to the two m...    0.000000\n",
            "44            45      WHen trying to choose a resistor with ...    0.000000\n",
            "45            46    I am looking for the exact address of th...    0.000000\n",
            "46            47     You're blowing smoke.  Qualcomm wants t...    0.000000\n",
            "47            48    Counterpoint  SA-12  85watts per channel...    0.000000\n",
            "48            49    Has anyone had any experience with a rep...    0.000000\n",
            "49            50    [This belongs in comp.windows.x.i386unix...    0.000000\n"
          ]
        }
      ],
      "source": [
        "from rank_bm25 import BM25Okapi\n",
        "\n",
        "tokenized_corpus = [doc.split() for doc in corpus]\n",
        "bm25 = BM25Okapi(tokenized_corpus)\n",
        "# Tokenizar la consulta\n",
        "tokenized_query = query.split()\n",
        "# Obtener los scores BM25 para la consulta\n",
        "scores_bm25 = bm25.get_scores(tokenized_query)\n",
        "\n",
        "# Ranking de índices BM25 \n",
        "ranking_indices_bm25 = scores_bm25.argsort()[::-1]\n",
        "resultados_bm25 = pd.DataFrame({\n",
        "    'Ranking BM25': range(1, top_k + 1),\n",
        "    'Documento': [corpus[i][:40].replace('\\n', ' ') + '...' for i in ranking_indices_bm25[:top_k]],\n",
        "    'Score BM25': [scores_bm25[i] for i in ranking_indices_bm25[:top_k]]\n",
        "})\n",
        "print(resultados_bm25)\n"
      ]
    },
    {
      "cell_type": "markdown",
      "id": "2c71b85e77b4b181",
      "metadata": {
        "id": "2c71b85e77b4b181"
      },
      "source": [
        "## Parte 4: Comparación visual entre TF-IDF y BM25\n",
        "\n",
        "### Actividad\n",
        "\n",
        "1. Utiliza un gráfico de barras para visualizar los scores obtenidos por cada documento según TF-IDF y BM25.\n",
        "2. Compara los rankings visualmente.\n",
        "3. Identifica: ¿Qué documentos obtienen scores más altos en un modelo que en otro?\n",
        "4. Sugiere: ¿A qué se podría deber esta diferencia?"
      ]
    },
    {
      "cell_type": "code",
      "execution_count": 52,
      "id": "36d5f190",
      "metadata": {},
      "outputs": [
        {
          "data": {
            "image/png": "[encoded data removed]",
            "text/plain": [
              "<Figure size 1200x600 with 1 Axes>"
            ]
          },
          "metadata": {},
          "output_type": "display_data"
        }
      ],
      "source": [
        "# Gráfico de barras para visualizar los scores por cada documento tfidf y bm25\n",
        "import matplotlib.pyplot as plt\n",
        "plt.figure(figsize=(12, 6))\n",
        "plt.bar(resultados['Ranking'], resultados['Similitud coseno'], label='TF-IDF', alpha=0.6)\n",
        "plt.bar(resultados_bm25['Ranking BM25'], resultados_bm25['Score BM25'], label='BM25', alpha=0.6)\n",
        "plt.xlabel('Ranking de Documentos')\n",
        "plt.ylabel('Score')\n",
        "plt.title('Comparación de Scores TF-IDF y BM25')\n",
        "plt.xticks(range(1, top_k + 1))\n",
        "plt.legend()\n",
        "plt.show()"
      ]
    },
    {
      "cell_type": "code",
      "execution_count": 26,
      "id": "0445bd28",
      "metadata": {},
      "outputs": [],
      "source": [
        "# ¿Qué método es mejor?\n",
        "# La elección entre TF-IDF y BM25 depende del contexto y de la naturaleza de los datos.\n",
        "# TF-IDF es más adecuado para tareas donde la frecuencia de términos es importante,\n",
        "# mientras que BM25 es más robusto para consultas con términos comunes y es menos sensible a la longitud del documento.\n",
        "# BM25 tiende a manejar mejor la relevancia de los documentos en función de la longitud y la frecuencia de términos,\n",
        "# lo que lo hace más efectivo en muchos casos de búsqueda de información.\n",
        "# En general, BM25 es considerado un modelo más avanzado y efectivo para la recuperación de información,\n",
        "# especialmente en grandes colecciones de documentos."
      ]
    },
    {
      "cell_type": "markdown",
      "id": "b97d171655ecfb",
      "metadata": {
        "id": "b97d171655ecfb"
      },
      "source": [
        "## Parte 5: Evaluación con consulta relevante\n",
        "\n",
        "### Actividad\n",
        "\n",
        "1. Elige una consulta y define qué documentos del corpus deberían considerarse relevantes.\n",
        "2. Evalúa Precision@3 o MAP para los rankings generados con TF-IDF y BM25.\n",
        "3. Responde: ¿Cuál modelo da mejores resultados respecto a tu criterio de relevancia?"
      ]
    },
    {
      "cell_type": "code",
      "execution_count": 68,
      "id": "0caaf14b",
      "metadata": {},
      "outputs": [
        {
          "name": "stdout",
          "output_type": "stream",
          "text": [
            "    Ranking                                     Documento  Similitud coseno\n",
            "0         1    PPPPP    OOOOO  V     V  Persistance Of...          0.204124\n",
            "1         2   A friend has the following symptoms whic...          0.171219\n",
            "2         3      Punchline #3: it would be a good idea...          0.154303\n",
            "3         4    I've had PRK.  I would suggest asking a...          0.151911\n",
            "4         5   21 Apr 1993 egreen@east.sun.com (Ed Gree...          0.149441\n",
            "5         6   [questions and issues WRT congress raise...          0.128037\n",
            "6         7   Wm Hathaway comments;    I agree that th...          0.126302\n",
            "7         8    Extremely rare in humans.  Usually so m...          0.121268\n",
            "8         9   Pat sez;  Yeah, but a windscreen cut dow...          0.119523\n",
            "9        10   \\tYep! I did one yesterday on my shaftie...          0.119523\n",
            "10       11   Nick Haines sez;  Level 5?  Out of how m...          0.118678\n",
            "11       12  I'm selling the following items...  \\t- a...          0.118678\n",
            "12       13   I used the information provided in the r...          0.115470\n",
            "13       14    When I first saw this, I thought for a ...          0.111111\n",
            "14       15   For Sale:      Roland TR-606 Drum Machin...          0.106600\n",
            "15       16   [stuff deleted] I have a similiar questi...          0.106000\n",
            "16       17   James Nicholl sez;  Jeff responds;   I w...          0.105409\n",
            "17       18     OOPS - got home and re-checked and fou...          0.105409\n",
            "18       19     You are probably referring to the prod...          0.104257\n",
            "19       20   AT&T also puts out two new products for ...          0.095346\n",
            "20       21   George William Herbert sez:   I like you...          0.093659\n",
            "21       22           I read a great book about eye do...          0.092450\n",
            "22       23   Australian Pattern Recognition Society  ...          0.087391\n",
            "23       24   I'm thinking about getting a Toshiba 340...          0.086711\n",
            "24       25   JL-NS>Subject: Re: Motorcycle Courier (S...          0.086387\n",
            "25       26   : >IS3does anyone know whether or not it...          0.084215\n",
            "26       27   # #Do anyone know about any shading prog...          0.080064\n",
            "27       28   I love the FAQ.         The comment abou...          0.078446\n",
            "28       29    It is possible that the individual saw ...          0.074668\n",
            "29       30   Regarding David Wilkerson's prophecies. ...          0.073127\n",
            "30       31    ...text of options \"A\" and \"B\" deleted....          0.069338\n",
            "31       32   +--------------+   ||+----------+ |     ...          0.068199\n",
            "32       33   From: Gene Wright <gene@theporch.raider....          0.067116\n",
            "33       34   Davis Nicoll sez;  I'd buy that for two ...          0.064550\n",
            "34       35    \\tI'm not sure who the \"original respon...          0.063661\n",
            "35       36   If you want to see environmental disaste...          0.063628\n",
            "36       37   : I have wondered why a pitcher is given...          0.062746\n",
            "37       38   I just visited the NY Auto Show, and saw...          0.062500\n",
            "38       39   [4) \"Nothing unclean shall enter [heaven...          0.060746\n",
            "39       40   We are doing a research about a passive ...          0.060634\n",
            "40       41     I had a similar experience.  We had a ...          0.060634\n",
            "41       42   CBD>From: Christopher Bradley Devlin <cd...          0.060606\n",
            "42       43   I have the following busines books/best ...          0.056166\n",
            "43       44   From: \"Phil G. Fraering\" <pgf@srl03.cacs...          0.050572\n",
            "44       45       Is it appropriate for the Lord not t...          0.049629\n",
            "45       46   JS>From: Stafford@Vax2.Winona.MSUS.Edu (...          0.048450\n",
            "46       47    Well I can buy a bigger and more powerf...          0.048393\n",
            "47       48       Certainly. Reference follows.   Bear...          0.047129\n",
            "48       49   Like many others I too was watching the ...          0.047036\n",
            "49       50   : Oh bull pucky, Ed. They use dogs becau...          0.046424\n"
          ]
        }
      ],
      "source": [
        "# Elección de una consulta y definición de que documento es relevante\n",
        "consulta = \"vision\"\n",
        "# Definir el documento relevante\n",
        "documento_relevante = \"graphics and computer vision\"\n",
        "\n",
        "# Calcular la similitud coseno para la consulta\n",
        "consulta_vect = vectorizer.transform([consulta])\n",
        "# Calcular la similitud coseno entre la consulta y los documentos\n",
        "dist_consulta = cosine_similarity(consulta_vect, X).flatten()\n",
        "# Ranking de índices para la consulta\n",
        "ranking_indices_consulta = dist_consulta.argsort()[::-1]\n",
        "# Construcción del DataFrame para la consulta\n",
        "resultados_consulta = pd.DataFrame({\n",
        "    'Ranking': range(1, top_k + 1),\n",
        "    'Documento': [corpus[i][:40].replace('\\n', ' ') + '...' for i in ranking_indices_consulta[:top_k]],\n",
        "    'Similitud coseno': [dist_consulta[i] for i in ranking_indices_consulta[:top_k]],\n",
        "})\n",
        "print(resultados_consulta)\n",
        "# Verificar si el documento relevante está en los resultados\n",
        "if documento_relevante in resultados_consulta['Documento'].values:\n",
        "    print(f\"El documento relevante '{documento_relevante}' está en los resultados.\")"
      ]
    },
    {
      "cell_type": "code",
      "execution_count": null,
      "id": "ba541339",
      "metadata": {},
      "outputs": [
        {
          "name": "stdout",
          "output_type": "stream",
          "text": [
            "Ranking TF-IDF: [14241 17935  5574   997  9937 13821  7547   358  3437 18170 10456  3512\n",
            "  5732  2909 15063  7538  8952  4129  9837  2556   601  9838   724  9022\n",
            "  8956  1847 18252  4901 12632  6869  9132  6184  5078  9700  9708  9562\n",
            "  9707  6752 13858  9820 14442 18573  2988 17708  7301  7554  6675 13413\n",
            " 10401 10461]\n",
            "Ranking BM25: [13697  7457  4100  5103 18834 18833 18832 18831 18830 18829 18828 18827\n",
            " 18826 18825 18824 18823 18822 18821 18820 18819 18818 18817 18816    56\n",
            " 18784    24    32 18808     0 18845 18844    63    62    61    60    59\n",
            "    58    57 18839    55    54    53    52    51    50    49    48    47\n",
            "    46    45]\n"
          ]
        }
      ],
      "source": [
        "# Evaluación de presición para los rankings generados por TF-IDF y BM25\n",
        "from sklearn.metrics import precision_score\n",
        "def precision_at_k(ranking, relevant_docs, k):\n",
        "    \"\"\"\n",
        "    Calcula la precisión en el top-k de un ranking dado.\n",
        "    \n",
        "    :param ranking: Lista de documentos ordenados por relevancia.\n",
        "    :param relevant_docs: Lista de documentos relevantes.\n",
        "    :param k: Número de documentos a considerar en el ranking.\n",
        "    :return: Precisión en el top-k.\n",
        "    \"\"\"\n",
        "    if k > len(ranking):\n",
        "        k = len(ranking)\n",
        "    \n",
        "    retrieved_docs = set(ranking[:k])\n",
        "    relevant_docs_set = set(relevant_docs)\n",
        "    \n",
        "    true_positives = len(retrieved_docs.intersection(relevant_docs_set))\n",
        "    \n",
        "    return true_positives / k\n",
        "# resultados\n",
        "relevantes = [i for i, doc in enumerate(corpus) if documento_relevante.lower() in doc.lower()]\n",
        "# Obtener los índices de documentos en el ranking (orden original del corpus)\n",
        "ranking_tfidf_indices = dist_consulta.argsort()[::-1][:top_k]\n",
        "ranking_bm25_indices = scores_bm25.argsort()[::-1][:top_k]\n",
        "\n",
        "# Calcular precisión\n",
        "precision_tfidf = precision_at_k(ranking_tfidf_indices, relevantes, top_k)\n",
        "precision_bm25 = precision_at_k(ranking_bm25_indices, relevantes, top_k)\n",
        "\n",
        "print(\"Ranking TF-IDF:\", ranking_tfidf_indices)\n",
        "print(\"Ranking BM25:\", ranking_bm25_indices)\n",
        "\n",
        "\n"
      ]
    }
  ],
  "metadata": {
    "colab": {
      "gpuType": "T4",
      "provenance": []
    },
    "kernelspec": {
      "display_name": ".venv",
      "language": "python",
      "name": "python3"
    },
    "language_info": {
      "codemirror_mode": {
        "name": "ipython",
        "version": 3
      },
      "file_extension": ".py",
      "mimetype": "text/x-python",
      "name": "python",
      "nbconvert_exporter": "python",
      "pygments_lexer": "ipython3",
      "version": "3.12.4"
    }
  },
  "nbformat": 4,
  "nbformat_minor": 5
}
