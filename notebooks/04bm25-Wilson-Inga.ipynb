{
  "cells": [
    {
      "cell_type": "markdown",
      "id": "941741204a003f44",
      "metadata": {
        "id": "941741204a003f44"
      },
      "source": [
        "# Ejercicio 4: Modelo Probabilístico\n",
        "\n",
        "## Objetivo de la práctica\n",
        "- Comprender los componentes del modelo vectorial mediante cálculos manuales y observación directa.\n",
        "- Aplicar el modelo de espacio vectorial con TF-IDF para recuperar documentos relevantes.\n",
        "- Comparar la recuperación con BM25 frente a TF-IDF.\n",
        "- Analizar visualmente las diferencias entre los modelos.\n",
        "- Evaluar si los rankings generados son consistentes con lo que considerarías documentos relevantes."
      ]
    },
    {
      "cell_type": "markdown",
      "id": "93bafe7a6a4ef9e5",
      "metadata": {
        "id": "93bafe7a6a4ef9e5"
      },
      "source": [
        "## Parte 0: Carga del Corpus"
      ]
    },
    {
      "cell_type": "code",
      "execution_count": 10,
      "id": "ad08bb8bd43ae327",
      "metadata": {
        "id": "ad08bb8bd43ae327"
      },
      "outputs": [],
      "source": [
        "from sklearn.datasets import fetch_20newsgroups\n",
        "\n",
        "newsgroups = fetch_20newsgroups(subset='all', remove=('headers', 'footers', 'quotes'))\n",
        "corpus = newsgroups.data\n",
        "target = newsgroups.target\n",
        "target_names = newsgroups.target_names"
      ]
    },
    {
      "cell_type": "markdown",
      "id": "10f8c7f78934f497",
      "metadata": {
        "id": "10f8c7f78934f497"
      },
      "source": [
        "## Parte 1: Cálculo de TF, DF, IDF y TF-IDF\n",
        "\n",
        "### Actividad\n",
        "1. Utiliza el corpus cargado.\n",
        "2. Construye la matriz de términos (TF), y calcula la frecuencia de documentos (DF)\n",
        "3. Calcula TF-IDF utilizando sklearn.\n",
        "4. Visualiza los valores en un DataFrame para analizar las diferencias entre los términos."
      ]
    },
    {
      "cell_type": "code",
      "execution_count": 11,
      "id": "d2ebd9f1c1b6c787",
      "metadata": {
        "id": "d2ebd9f1c1b6c787"
      },
      "outputs": [],
      "source": [
        "from sklearn.feature_extraction.text import CountVectorizer, TfidfVectorizer\n",
        "import pandas as pd"
      ]
    },
    {
      "cell_type": "code",
      "execution_count": 14,
      "id": "x_NZ56bW1HBQ",
      "metadata": {
        "colab": {
          "base_uri": "https://localhost:8080/"
        },
        "id": "x_NZ56bW1HBQ",
        "outputId": "a422a267-4e6d-4811-8174-3c793d1bc6cd"
      },
      "outputs": [
        {
          "name": "stdout",
          "output_type": "stream",
          "text": [
            "   00  000  0000  00000  000000  00000000  0000000004  00000000b  00000001  \\\n",
            "0   0    0     0      0       0         0           0          0         0   \n",
            "1   0    0     0      0       0         0           0          0         0   \n",
            "2   0    0     0      0       0         0           0          0         0   \n",
            "3   0    0     0      0       0         0           0          0         0   \n",
            "4   0    0     0      0       0         0           0          0         0   \n",
            "\n",
            "   00000001b  ...  zzvsi  zzy_3w  zzz  zzzoh  zzzzzz  zzzzzzt  ³ation  ýé  \\\n",
            "0          0  ...      0       0    0      0       0        0       0   0   \n",
            "1          0  ...      0       0    0      0       0        0       0   0   \n",
            "2          0  ...      0       0    0      0       0        0       0   0   \n",
            "3          0  ...      0       0    0      0       0        0       0   0   \n",
            "4          0  ...      0       0    0      0       0        0       0   0   \n",
            "\n",
            "   ÿhooked              target_names  \n",
            "0        0          rec.sport.hockey  \n",
            "1        0  comp.sys.ibm.pc.hardware  \n",
            "2        0     talk.politics.mideast  \n",
            "3        0  comp.sys.ibm.pc.hardware  \n",
            "4        0     comp.sys.mac.hardware  \n",
            "\n",
            "[5 rows x 134411 columns]\n"
          ]
        }
      ],
      "source": [
        "# Construcción de la matriz de términos (TF)\n",
        "vectorizer = CountVectorizer()\n",
        "X = vectorizer.fit_transform(corpus)\n",
        "# Calcular la frecuencia de documentos (DF)\n",
        "df = (X > 0).sum(axis=0).A1\n",
        "# Calcular TF-IDF con sklearn\n",
        "tfidf_vectorizer = TfidfVectorizer()\n",
        "X_tfidf = tfidf_vectorizer.fit_transform(corpus)\n",
        "# Crear un DataFrame con los términos y sus frecuencias\n",
        "tfidf = pd.DataFrame.sparse.from_spmatrix(\n",
        "    X_tfidf,\n",
        "    columns=tfidf_vectorizer.get_feature_names_out()\n",
        ")\n",
        "# Añadir la columna de etiquetas\n",
        "tfidf['target'] = target\n",
        "# Añadir la columna de nombres de categorías\n",
        "tfidf['target_names'] = [target_names[i] for i in target]\n",
        "\n",
        "print(tfidf.head())"
      ]
    },
    {
      "cell_type": "markdown",
      "id": "64491bce5361e8b3",
      "metadata": {
        "id": "64491bce5361e8b3"
      },
      "source": [
        "## Parte 2: Ranking de documentos usando TF-IDF\n",
        "\n",
        "### Actividad\n",
        "\n",
        "1. Dada una consulta, construye el vector de consulta\n",
        "2. Calcula la similitud coseno entre la consulta y cada documento usando los vectores TF-IDF\n",
        "3. Genera un ranking de los documentos ordenados por relevancia.\n",
        "4. Muestra los resultados en una tabla."
      ]
    },
    {
      "cell_type": "markdown",
      "id": "va6BEzxN7lPE",
      "metadata": {
        "id": "va6BEzxN7lPE"
      },
      "source": [
        "## Crear el vector consulta"
      ]
    },
    {
      "cell_type": "code",
      "execution_count": 16,
      "id": "lzHrmVuj7pN9",
      "metadata": {
        "id": "lzHrmVuj7pN9"
      },
      "outputs": [],
      "source": [
        "query = \"jersey\""
      ]
    },
    {
      "cell_type": "code",
      "execution_count": 17,
      "id": "rjv_3E407vLb",
      "metadata": {
        "colab": {
          "base_uri": "https://localhost:8080/"
        },
        "id": "rjv_3E407vLb",
        "outputId": "e012573c-7582-4e08-f0bb-e65f619683db"
      },
      "outputs": [
        {
          "name": "stdout",
          "output_type": "stream",
          "text": [
            "<Compressed Sparse Row sparse matrix of dtype 'int64'\n",
            "\twith 1 stored elements and shape (1, 134410)>\n",
            "  Coords\tValues\n",
            "  (0, 68989)\t1\n"
          ]
        }
      ],
      "source": [
        "query_vect = vectorizer.transform([query])\n",
        "print(query_vect)"
      ]
    },
    {
      "cell_type": "markdown",
      "id": "fHCnc0oW76b9",
      "metadata": {
        "id": "fHCnc0oW76b9"
      },
      "source": [
        "### Calcular la similitud coseno"
      ]
    },
    {
      "cell_type": "code",
      "execution_count": 20,
      "id": "I3izZxqt7-wW",
      "metadata": {
        "colab": {
          "base_uri": "https://localhost:8080/"
        },
        "id": "I3izZxqt7-wW",
        "outputId": "d09eea60-72b1-458c-dfbf-da27d6648178"
      },
      "outputs": [
        {
          "name": "stdout",
          "output_type": "stream",
          "text": [
            "[0.05292561 0.         0.         ... 0.         0.         0.        ]\n"
          ]
        }
      ],
      "source": [
        "from sklearn.metrics.pairwise import cosine_similarity\n",
        " # dist arreglo de similitudes de la consulta y cada documento entre [0-1]\n",
        "dist = cosine_similarity(query_vect, X).flatten()\n",
        "print(dist)"
      ]
    },
    {
      "cell_type": "markdown",
      "id": "vL0tn_t28xI0",
      "metadata": {
        "id": "vL0tn_t28xI0"
      },
      "source": [
        "### Generar el ranking y mostrar tabla"
      ]
    },
    {
      "cell_type": "code",
      "execution_count": 21,
      "id": "8C6MdN2K8vtj",
      "metadata": {
        "colab": {
          "base_uri": "https://localhost:8080/"
        },
        "id": "8C6MdN2K8vtj",
        "outputId": "62f01f7b-38e7-47e8-aeab-078e7eb8b546"
      },
      "outputs": [
        {
          "name": "stdout",
          "output_type": "stream",
          "text": [
            "    Ranking                                     Documento  Similitud coseno\n",
            "0         1         $200 in Glassboro, New Jersey  :( ...          0.447214\n",
            "1         2  \\tDon't forget Paul Ysebaert, ex-Devil.  ...          0.218218\n",
            "2         3   Boston                           2 2 0--...          0.209083\n",
            "3         4   cd's for sale:  1. jon bon jovi - new je...          0.176777\n",
            "4         5   Does anyone here know where I can find a...          0.174078\n",
            "5         6   HELP!  I'm stuck here at a computer in N...          0.171499\n",
            "6         7   Philadelphia                     1 1 2 1...          0.167705\n",
            "7         8   s:   I have a 1991 Toyota Camry Deluxe f...          0.145865\n",
            "8         9    I had heard(perhaps incorrectly) that w...          0.142857\n",
            "9        10    Not to mention the thread about selling...          0.138675\n",
            "10       11   Thanks to all who replied to my initial ...          0.124035\n",
            "11       12   \\tI just went through this mess in New J...          0.123091\n",
            "12       13     Here are the ones I can remember offha...          0.119523\n",
            "13       14   Thanks for the 41 people who have entere...          0.118888\n",
            "14       15   Okay, here's the entry sheet.  Keep in m...          0.106600\n",
            "15       16     I'm totally p*-o'd, too!  Vancouver-Wi...          0.103695\n",
            "16       17   New Jersey                       1 0 2--...          0.101871\n",
            "17       18   Everyone... Read this.  If you have alre...          0.099015\n",
            "18       19    IMHO...  Clement, although he has a ple...          0.086711\n",
            "19       20      I have one complaint for the camerame...          0.085436\n",
            "20       21   I am looking for recommendations for a g...          0.080582\n",
            "21       22     The last name is Niedermayer, as in Ne...          0.080064\n",
            "22       23   -| I am taking a course entitled \"Explor...          0.076923\n",
            "23       24   NY Rangers                       3 1 0--...          0.075165\n",
            "24       25   : >And, while we are on the subject, has...          0.074953\n",
            "25       26     : I have one complaint for the cameram...          0.073127\n",
            "26       27     What is so honorable about placing bom...          0.071067\n",
            "27       28   Well, thanks to everyone who has entered...          0.067267\n",
            "28       29     While we're on the multipurpose subjec...          0.063888\n",
            "29       30   I am posting this for a friend.  Please ...          0.061314\n",
            "30       31   Okay... here's some gripe\"ing\" (?griping...          0.060385\n",
            "31       32   NY Islanders                     1 1 2 0...          0.055836\n",
            "32       33    I think that Mike Foligno was the capta...          0.054882\n",
            "33       34     I am sure some bashers of Pens fans ar...          0.052926\n",
            "34       35   NHL PLAYOFF RESULTS FOR 4/22/93.  ------...          0.052559\n",
            "35       36  : >          \"hose\"  h-o-s-e  : \\tDork.  ...          0.051778\n",
            "36       37    Chris Chelios was Montreal's co-captain...          0.051434\n",
            "37       38   Available for Weekly/bi-weekly/weekend R...          0.051031\n",
            "38       39   NHL PLAYOFF RESULTS FOR 4/20/93.  ------...          0.048593\n",
            "39       40    : That's not inner calm.  It's boredom,...          0.046524\n",
            "40       41   RA>    Here's the point: there are far t...          0.044721\n",
            "41       42     yet.  I'm not bored either.  Most peop...          0.044544\n",
            "42       43    Ah! Excellent. So why doesn't she appea...          0.040757\n",
            "43       44   NHL RESULTS FOR GAMES PLAYED 4/14/93.  -...          0.039723\n",
            "44       45   I was thinking about who on each of the ...          0.037796\n",
            "45       46   Everybody.  Please send me your predicti...          0.037294\n",
            "46       47  \\tUsually one or two teams changes their ...          0.037190\n",
            "47       48   Well put, Jason.  I am not from Wisconsi...          0.035669\n",
            "48       49   Jesus Christ!!!  The score is now 6-0. T...          0.029907\n",
            "49       50   -=> Quoting Cire Y. Trehguad to All <=- ...          0.027746\n"
          ]
        }
      ],
      "source": [
        "top_k = 50\n",
        "\n",
        "# Ranking de indices debe ser una lista de enteros\n",
        "ranking_indices = dist.argsort()[::-1] # argsort devuelve índices de menor a mayor y con [::1] invertimos ese orden\n",
        "\n",
        "# Construcción del DataFrame\n",
        "resultados = pd.DataFrame({\n",
        "    'Ranking': range(1, top_k + 1),\n",
        "    'Documento': [corpus[i][:40].replace('\\n', ' ') + '...' for i in ranking_indices[:top_k]],\n",
        "    'Similitud coseno': [dist[i] for i in ranking_indices[:top_k]],\n",
        "    #'Categoría': [target_names[target[i]] for i in ranking_indices[:top_k]] #\n",
        "})\n",
        "\n",
        "print(resultados)"
      ]
    },
    {
      "cell_type": "markdown",
      "id": "97061325508dc5f2",
      "metadata": {
        "id": "97061325508dc5f2"
      },
      "source": [
        "## Parte 3: Ranking con BM25\n",
        "\n",
        "### Actividad\n",
        "\n",
        "1. Implementa un sistema de recuperación usando el modelo BM25.\n",
        "2. Usa la misma consulta del ejercicio anterior.\n",
        "3. Calcula el score BM25 para cada documento y genera un ranking.\n",
        "4. Compara manualmente con el ranking de TF-IDF."
      ]
    },
    {
      "cell_type": "markdown",
      "id": "7bb03f7d",
      "metadata": {},
      "source": [
        "### Libreria BM25"
      ]
    },
    {
      "cell_type": "code",
      "execution_count": 22,
      "id": "9aafa361",
      "metadata": {},
      "outputs": [
        {
          "name": "stdout",
          "output_type": "stream",
          "text": [
            "    Ranking BM25                                     Documento  Score BM25\n",
            "0              1    Well, I used to get mad, and either try...    9.003147\n",
            "1              2   #[reply to frank@D012S658.uucp (Frank O'...    9.003011\n",
            "2              3   This discussion on \"objective\" seems to ...    8.995510\n",
            "3              4     If you only do read/print then there i...    8.969370\n",
            "4              5        The problem is, your use of the wor...    8.959503\n",
            "5              6            I don't mean to sound disrespec...    8.957637\n",
            "6              7     Atoms are not objective.  They aren't ...    8.957389\n",
            "7              8   There is a cartridge capping upgrade for...    8.950542\n",
            "8              9    Now, take a good look at at, an tell me...    8.939102\n",
            "9             10   There are many people want to buy my Kod...    8.937240\n",
            "10            11   4/15/93 1242  Turkey sends light weapons...    8.932973\n",
            "11            12      I second that suggestion.  Although I...    8.924366\n",
            "12            13   It depends on what you'd like your joyst...    8.918883\n",
            "13            14    cjackson> I am very glad to know that n...    8.918549\n",
            "14            15   [reply to frank@D012S658.uucp (Frank O'D...    8.917396\n",
            "15            16   Are you trying to say that there were no...    8.915564\n",
            "16            17   I've just read Carol's response and I ju...    8.913608\n",
            "17            18     Well, I've said that when an innocent ...    8.911887\n",
            "18            19   : In my mind, to say that science has it...    8.908879\n",
            "19            20    Perhaps you have a different understand...    8.904929\n",
            "20            21   In-reply-to: todamhyp@charles.unlv.edu's...    8.900230\n",
            "21            22        Agressive actions are taken by both...    8.895972\n",
            "22            23   I am trying to define my own class deriv...    8.895029\n",
            "23            24    Oh, yes he did.  You may not agree with...    8.894855\n",
            "24            25   Read this through once or twice.  Then r...    8.893703\n",
            "25            26    Do you mean that MSW3.1 is objectively ...    8.892497\n",
            "26            27   :Judge: \"I grant you immunity from whate...    8.891116\n",
            "27            28   : >There is a wire without any jack at t...    8.887630\n",
            "28            29    Of course,  \\tHow many government proje...    8.887615\n",
            "29            30   Found this in soc.culture.pakistan Might...    8.885814\n",
            "30            31   04/16/93 1045  ARMENIA SAYS IT COULD SHO...    8.884599\n",
            "31            32       Then you must be living in an altern...    8.884274\n",
            "32            33   -----BEGIN PGP SIGNED MESSAGE-----  Gasp...    8.881916\n",
            "33            34    ^^^^^^^^^ 1 Cor 11:31-32 \"But if we jud...    8.880934\n",
            "34            35    I don't think this is the case, at leas...    8.880799\n",
            "35            36    Well, let me see if I can explain it.  ...    8.877417\n",
            "36            37  % %   Request for opinions:\\t % %   Which...    8.876612\n",
            "37            38   [...]  I don't claim to be a crypto anal...    8.875847\n",
            "38            39       If the attack was justified or not i...    8.875561\n",
            "39            40      Hehehe!  Dontcha just love these care...    8.875407\n",
            "40            41   I get the feeling that we are debating a...    8.874722\n",
            "41            42    [Warning: Flammage to follow...]  Ah, t...    8.872540\n",
            "42            43   From article <1993Apr22.233001.13436@vax...    8.871845\n",
            "43            44                               ^^^^^^^^^^^^...    8.871288\n",
            "44            45    The tax protesters are legally correct,...    8.870915\n",
            "45            46    Hum, do you enjoy putting words in my m...    8.870226\n",
            "46            47    This thread brings back memorys of an e...    8.870129\n",
            "47            48    *> *>McGill/Hammond -> Johan Garpenlov....    8.868807\n",
            "48            49        Gong!  Take a moment and look at wh...    8.867860\n",
            "49            50     For the most part, this is a bunch of ...    8.867328\n"
          ]
        }
      ],
      "source": [
        "from rank_bm25 import BM25Okapi\n",
        "\n",
        "# Crear el modelo BM25\n",
        "bm25 = BM25Okapi(corpus)\n",
        "# Scores BM25 para la consulta\n",
        "scores_bm25 = bm25.get_scores(query)\n",
        "# Ranking de índices BM25 \n",
        "ranking_indices_bm25 = scores_bm25.argsort()[::-1]  # Ordenar de mayor a menor\n",
        "# Construcción del DataFrame BM25\n",
        "resultados_bm25 = pd.DataFrame({\n",
        "    'Ranking BM25': range(1, top_k + 1),\n",
        "    'Documento': [corpus[i][:40].replace('\\n', ' ') + '...' for i in ranking_indices_bm25[:top_k]],\n",
        "    'Score BM25': [scores_bm25[i] for i in ranking_indices_bm25[:top_k]]\n",
        "})\n",
        "print(resultados_bm25)\n"
      ]
    },
    {
      "cell_type": "markdown",
      "id": "2c71b85e77b4b181",
      "metadata": {
        "id": "2c71b85e77b4b181"
      },
      "source": [
        "## Parte 4: Comparación visual entre TF-IDF y BM25\n",
        "\n",
        "### Actividad\n",
        "\n",
        "1. Utiliza un gráfico de barras para visualizar los scores obtenidos por cada documento según TF-IDF y BM25.\n",
        "2. Compara los rankings visualmente.\n",
        "3. Identifica: ¿Qué documentos obtienen scores más altos en un modelo que en otro?\n",
        "4. Sugiere: ¿A qué se podría deber esta diferencia?"
      ]
    },
    {
      "cell_type": "code",
      "execution_count": 23,
      "id": "36d5f190",
      "metadata": {},
      "outputs": [
        {
          "data": {
            "image/png": "[encoded data removed]",
            "text/plain": [
              "<Figure size 1200x600 with 1 Axes>"
            ]
          },
          "metadata": {},
          "output_type": "display_data"
        }
      ],
      "source": [
        "# Gráfico de barras para visualizar los scores por cada documento tfidf y bm25\n",
        "import matplotlib.pyplot as plt\n",
        "plt.figure(figsize=(12, 6))\n",
        "plt.bar(resultados['Ranking'], resultados['Similitud coseno'], label='TF-IDF', alpha=0.6)\n",
        "plt.bar(resultados_bm25['Ranking BM25'], resultados_bm25['Score BM25'], label='BM25', alpha=0.6)\n",
        "plt.xlabel('Ranking de Documentos')\n",
        "plt.ylabel('Score')\n",
        "plt.title('Comparación de Scores TF-IDF y BM25')\n",
        "plt.xticks(range(1, top_k + 1))\n",
        "plt.legend()\n",
        "plt.show()"
      ]
    },
    {
      "cell_type": "code",
      "execution_count": 26,
      "id": "0445bd28",
      "metadata": {},
      "outputs": [],
      "source": [
        "# ¿Qué método es mejor?\n",
        "# La elección entre TF-IDF y BM25 depende del contexto y de la naturaleza de los datos.\n",
        "# TF-IDF es más adecuado para tareas donde la frecuencia de términos es importante,\n",
        "# mientras que BM25 es más robusto para consultas con términos comunes y es menos sensible a la longitud del documento.\n",
        "# BM25 tiende a manejar mejor la relevancia de los documentos en función de la longitud y la frecuencia de términos,\n",
        "# lo que lo hace más efectivo en muchos casos de búsqueda de información.\n",
        "# En general, BM25 es considerado un modelo más avanzado y efectivo para la recuperación de información,\n",
        "# especialmente en grandes colecciones de documentos."
      ]
    },
    {
      "cell_type": "markdown",
      "id": "b97d171655ecfb",
      "metadata": {
        "id": "b97d171655ecfb"
      },
      "source": [
        "## Parte 5: Evaluación con consulta relevante\n",
        "\n",
        "### Actividad\n",
        "\n",
        "1. Elige una consulta y define qué documentos del corpus deberían considerarse relevantes.\n",
        "2. Evalúa Precision@3 o MAP para los rankings generados con TF-IDF y BM25.\n",
        "3. Responde: ¿Cuál modelo da mejores resultados respecto a tu criterio de relevancia?"
      ]
    },
    {
      "cell_type": "code",
      "execution_count": 27,
      "id": "0caaf14b",
      "metadata": {},
      "outputs": [
        {
          "name": "stdout",
          "output_type": "stream",
          "text": [
            "    Ranking                                     Documento  Similitud coseno\n",
            "0         1   Technion - Israel Institute of Technolog...          0.463428\n",
            "1         2    My package is based on several articles...          0.425195\n",
            "2         3   EUROPEAN COMPUTER RESEARCH CENTRE  Resea...          0.410997\n",
            "3         4   \\tYes, that's known as \"Bresenhams Run L...          0.377964\n",
            "4         5              subscribe comp.graphics quit ...          0.353553\n",
            "5         6   Graeme> \\tYes, that's known as \"Bresenha...          0.317721\n",
            "6         7    This sounds wonderful, but it seems no ...          0.309426\n",
            "7         8    I've been given the sites of some excel...          0.303046\n",
            "8         9   I'm currently looking for a viewer for C...          0.301511\n",
            "9        10     Point your gopher client at merlot.wel...          0.297896\n",
            "10       11    I'm also interested in info both public...          0.287213\n",
            "11       12   Within the next several months I'll be l...          0.286770\n",
            "12       13    +In article <1993May7.211312.10403@bert...          0.285391\n",
            "13       14   ** For my computer law module I have bee...          0.280386\n",
            "14       15     Corel Draw will do it; version 2 onwar...          0.280056\n",
            "15       16     Corel Draw 4 will be able to do this a...          0.277350\n",
            "16       17   Hello netters  Sorry, I don't know if th...          0.258199\n",
            "17       18   Apollo (now HP) have a graphics board th...          0.250000\n",
            "18       19   Anybody know where I can get Graphics Wo...          0.250000\n",
            "19       20    A professor of mine once said \"The diff...          0.248146\n",
            "20       21   Hi! Everyone,  I don't clearly understan...          0.246183\n",
            "21       22     Stone, DeRose: Geometric characterizat...          0.246183\n",
            "22       23     Oh. OK then, sorry for misunderstandin...          0.236525\n",
            "23       24   Is there a comp.graphics FAQ and if so, ...          0.235702\n",
            "24       25     Or alternatively, 75% of the questions...          0.233285\n",
            "25       26   We have been shipping for over one year ...          0.231455\n",
            "26       27    In the IBM PC world, how much of a \"s...          0.228748\n",
            "27       28   \"Computer Friends\" nubus card - good for...          0.226455\n",
            "28       29    What about the common joystick found in...          0.223607\n",
            "29       30   Hello,  We are looking for a graphics pa...          0.221766\n",
            "30       31     Computers are a special case.. and it'...          0.219529\n",
            "31       32   )Many high-end graphics cards come with ...          0.218797\n",
            "32       33     Utah raster toolkit using getx11. Conv...          0.217571\n",
            "33       34   Within a few months, I'll be looking for...          0.213809\n",
            "34       35   I would be grateful to anyone who knows ...          0.213201\n",
            "35       36   I would like to know the regular/interna...          0.212132\n",
            "36       37   Recently I saw the latest Computer Shopp...          0.211407\n",
            "37       38    'Illumination and Color in Computer Gen...          0.204124\n",
            "38       39    yodicet> yodicet> yodicet>  Hmm. You do...          0.200000\n",
            "39       40   Are there any graphics texts with exampl...          0.198680\n",
            "40       41   IF YOU KNOW ANYTHING ABOUT THE CAERE TYP...          0.196537\n",
            "41       42   I have not seen articles in comp.graphic...          0.196116\n",
            "42       43   \\tThis entire dispute over a chip has de...          0.195283\n",
            "43       44   I need a graphics display program that c...          0.194461\n",
            "44       45   \\tWhere can I buy or build a device that...          0.191273\n",
            "45       46     Maybe I should point out that we are n...          0.188982\n",
            "46       47    The computer, err, government, is your ...          0.188982\n",
            "47       48   I received a Kaypro 286i computer (DOS) ...          0.187500\n",
            "48       49   Since the losers that sold me the hard d...          0.187317\n",
            "49       50     Madmen are mad.  Do we try to explain ...          0.182574\n"
          ]
        }
      ],
      "source": [
        "# Elección de una consulta y definición de que documento es relevante\n",
        "consulta = \"computer graphics\"\n",
        "# Definir el documento relevante\n",
        "documento_relevante = \"graphics and computer vision\"\n",
        "# Calcular la similitud coseno para la consulta\n",
        "consulta_vect = vectorizer.transform([consulta])\n",
        "# Calcular la similitud coseno entre la consulta y los documentos\n",
        "dist_consulta = cosine_similarity(consulta_vect, X).flatten()\n",
        "# Ranking de índices para la consulta\n",
        "ranking_indices_consulta = dist_consulta.argsort()[::-1]\n",
        "# Construcción del DataFrame para la consulta\n",
        "resultados_consulta = pd.DataFrame({\n",
        "    'Ranking': range(1, top_k + 1),\n",
        "    'Documento': [corpus[i][:40].replace('\\n', ' ') + '...' for i in ranking_indices_consulta[:top_k]],\n",
        "    'Similitud coseno': [dist_consulta[i] for i in ranking_indices_consulta[:top_k]],\n",
        "})\n",
        "print(resultados_consulta)"
      ]
    },
    {
      "cell_type": "code",
      "execution_count": 29,
      "id": "ba541339",
      "metadata": {},
      "outputs": [
        {
          "name": "stdout",
          "output_type": "stream",
          "text": [
            "Precisión en el top-50 para TF-IDF: 0.0000\n",
            "Precisión en el top-50 para BM25: 0.0000\n"
          ]
        }
      ],
      "source": [
        "# Evaluación de presición para los rankings generados por TF-IDF y BM25\n",
        "from sklearn.metrics import precision_score\n",
        "def precision_at_k(ranking, relevant_docs, k):\n",
        "    \"\"\"\n",
        "    Calcula la precisión en el top-k de un ranking dado.\n",
        "    \n",
        "    :param ranking: Lista de documentos ordenados por relevancia.\n",
        "    :param relevant_docs: Lista de documentos relevantes.\n",
        "    :param k: Número de documentos a considerar en el ranking.\n",
        "    :return: Precisión en el top-k.\n",
        "    \"\"\"\n",
        "    if k > len(ranking):\n",
        "        k = len(ranking)\n",
        "    \n",
        "    retrieved_docs = set(ranking[:k])\n",
        "    relevant_docs_set = set(relevant_docs)\n",
        "    \n",
        "    true_positives = len(retrieved_docs.intersection(relevant_docs_set))\n",
        "    \n",
        "    return true_positives / k\n",
        "# resultados\n",
        "relevantes = [i for i, doc in enumerate(corpus) if documento_relevante in doc]\n",
        "precision_tfidf = precision_at_k(resultados['Documento'], relevantes, top_k)\n",
        "precision_bm25 = precision_at_k(resultados_bm25['Documento'], relevantes, top_k)\n",
        "print(f\"Precisión en el top-{top_k} para TF-IDF: {precision_tfidf:.4f}\")\n",
        "print(f\"Precisión en el top-{top_k} para BM25: {precision_bm25:.4f}\")"
      ]
    }
  ],
  "metadata": {
    "colab": {
      "gpuType": "T4",
      "provenance": []
    },
    "kernelspec": {
      "display_name": ".venv",
      "language": "python",
      "name": "python3"
    },
    "language_info": {
      "codemirror_mode": {
        "name": "ipython",
        "version": 3
      },
      "file_extension": ".py",
      "mimetype": "text/x-python",
      "name": "python",
      "nbconvert_exporter": "python",
      "pygments_lexer": "ipython3",
      "version": "3.12.4"
    }
  },
  "nbformat": 4,
  "nbformat_minor": 5
}
